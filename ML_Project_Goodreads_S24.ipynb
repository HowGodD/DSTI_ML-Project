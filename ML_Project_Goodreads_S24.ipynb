{
 "cells": [
  {
   "cell_type": "code",
   "execution_count": 1,
   "metadata": {},
   "outputs": [],
   "source": [
    "import numpy as np\n",
    "import pandas as pd\n",
    "import matplotlib.pyplot as plt\n",
    "import seaborn as sns\n",
    "from collections import Counter\n",
    "from sklearn.feature_extraction.text import CountVectorizer\n",
    "from sklearn.preprocessing import LabelEncoder\n",
    "import re\n",
    "import plotly.express as px"
   ]
  },
  {
   "cell_type": "code",
   "execution_count": 2,
   "metadata": {},
   "outputs": [
    {
     "data": {
      "text/html": [
       "<div>\n",
       "<style scoped>\n",
       "    .dataframe tbody tr th:only-of-type {\n",
       "        vertical-align: middle;\n",
       "    }\n",
       "\n",
       "    .dataframe tbody tr th {\n",
       "        vertical-align: top;\n",
       "    }\n",
       "\n",
       "    .dataframe thead th {\n",
       "        text-align: right;\n",
       "    }\n",
       "</style>\n",
       "<table border=\"1\" class=\"dataframe\">\n",
       "  <thead>\n",
       "    <tr style=\"text-align: right;\">\n",
       "      <th></th>\n",
       "      <th>title</th>\n",
       "      <th>authors</th>\n",
       "      <th>average_rating</th>\n",
       "      <th>isbn</th>\n",
       "      <th>isbn13</th>\n",
       "      <th>language_code</th>\n",
       "      <th>num_pages</th>\n",
       "      <th>ratings_count</th>\n",
       "      <th>text_reviews_count</th>\n",
       "      <th>publication_date</th>\n",
       "      <th>publisher</th>\n",
       "    </tr>\n",
       "    <tr>\n",
       "      <th>bookID</th>\n",
       "      <th></th>\n",
       "      <th></th>\n",
       "      <th></th>\n",
       "      <th></th>\n",
       "      <th></th>\n",
       "      <th></th>\n",
       "      <th></th>\n",
       "      <th></th>\n",
       "      <th></th>\n",
       "      <th></th>\n",
       "      <th></th>\n",
       "    </tr>\n",
       "  </thead>\n",
       "  <tbody>\n",
       "    <tr>\n",
       "      <th>1</th>\n",
       "      <td>Harry Potter and the Half-Blood Prince (Harry ...</td>\n",
       "      <td>J.K. Rowling/Mary GrandPré</td>\n",
       "      <td>4.57</td>\n",
       "      <td>0439785960</td>\n",
       "      <td>9780439785969</td>\n",
       "      <td>eng</td>\n",
       "      <td>652</td>\n",
       "      <td>2095690</td>\n",
       "      <td>27591</td>\n",
       "      <td>9/16/2006</td>\n",
       "      <td>Scholastic Inc.</td>\n",
       "    </tr>\n",
       "    <tr>\n",
       "      <th>2</th>\n",
       "      <td>Harry Potter and the Order of the Phoenix (Har...</td>\n",
       "      <td>J.K. Rowling/Mary GrandPré</td>\n",
       "      <td>4.49</td>\n",
       "      <td>0439358078</td>\n",
       "      <td>9780439358071</td>\n",
       "      <td>eng</td>\n",
       "      <td>870</td>\n",
       "      <td>2153167</td>\n",
       "      <td>29221</td>\n",
       "      <td>9/1/2004</td>\n",
       "      <td>Scholastic Inc.</td>\n",
       "    </tr>\n",
       "    <tr>\n",
       "      <th>4</th>\n",
       "      <td>Harry Potter and the Chamber of Secrets (Harry...</td>\n",
       "      <td>J.K. Rowling</td>\n",
       "      <td>4.42</td>\n",
       "      <td>0439554896</td>\n",
       "      <td>9780439554893</td>\n",
       "      <td>eng</td>\n",
       "      <td>352</td>\n",
       "      <td>6333</td>\n",
       "      <td>244</td>\n",
       "      <td>11/1/2003</td>\n",
       "      <td>Scholastic</td>\n",
       "    </tr>\n",
       "    <tr>\n",
       "      <th>5</th>\n",
       "      <td>Harry Potter and the Prisoner of Azkaban (Harr...</td>\n",
       "      <td>J.K. Rowling/Mary GrandPré</td>\n",
       "      <td>4.56</td>\n",
       "      <td>043965548X</td>\n",
       "      <td>9780439655484</td>\n",
       "      <td>eng</td>\n",
       "      <td>435</td>\n",
       "      <td>2339585</td>\n",
       "      <td>36325</td>\n",
       "      <td>5/1/2004</td>\n",
       "      <td>Scholastic Inc.</td>\n",
       "    </tr>\n",
       "    <tr>\n",
       "      <th>8</th>\n",
       "      <td>Harry Potter Boxed Set  Books 1-5 (Harry Potte...</td>\n",
       "      <td>J.K. Rowling/Mary GrandPré</td>\n",
       "      <td>4.78</td>\n",
       "      <td>0439682584</td>\n",
       "      <td>9780439682589</td>\n",
       "      <td>eng</td>\n",
       "      <td>2690</td>\n",
       "      <td>41428</td>\n",
       "      <td>164</td>\n",
       "      <td>9/13/2004</td>\n",
       "      <td>Scholastic</td>\n",
       "    </tr>\n",
       "  </tbody>\n",
       "</table>\n",
       "</div>"
      ],
      "text/plain": [
       "                                                    title  \\\n",
       "bookID                                                      \n",
       "1       Harry Potter and the Half-Blood Prince (Harry ...   \n",
       "2       Harry Potter and the Order of the Phoenix (Har...   \n",
       "4       Harry Potter and the Chamber of Secrets (Harry...   \n",
       "5       Harry Potter and the Prisoner of Azkaban (Harr...   \n",
       "8       Harry Potter Boxed Set  Books 1-5 (Harry Potte...   \n",
       "\n",
       "                           authors  average_rating        isbn         isbn13  \\\n",
       "bookID                                                                          \n",
       "1       J.K. Rowling/Mary GrandPré            4.57  0439785960  9780439785969   \n",
       "2       J.K. Rowling/Mary GrandPré            4.49  0439358078  9780439358071   \n",
       "4                     J.K. Rowling            4.42  0439554896  9780439554893   \n",
       "5       J.K. Rowling/Mary GrandPré            4.56  043965548X  9780439655484   \n",
       "8       J.K. Rowling/Mary GrandPré            4.78  0439682584  9780439682589   \n",
       "\n",
       "       language_code    num_pages  ratings_count  text_reviews_count  \\\n",
       "bookID                                                                 \n",
       "1                eng          652        2095690               27591   \n",
       "2                eng          870        2153167               29221   \n",
       "4                eng          352           6333                 244   \n",
       "5                eng          435        2339585               36325   \n",
       "8                eng         2690          41428                 164   \n",
       "\n",
       "       publication_date        publisher  \n",
       "bookID                                    \n",
       "1             9/16/2006  Scholastic Inc.  \n",
       "2              9/1/2004  Scholastic Inc.  \n",
       "4             11/1/2003       Scholastic  \n",
       "5              5/1/2004  Scholastic Inc.  \n",
       "8             9/13/2004       Scholastic  "
      ]
     },
     "execution_count": 2,
     "metadata": {},
     "output_type": "execute_result"
    }
   ],
   "source": [
    "# Read file dropping misaligned rows (4 total)\n",
    "file_path = r'C:/Users/lucyc/Documents/books.csv'\n",
    "df_GoodReads = pd.read_csv(file_path, on_bad_lines='skip', index_col='bookID')\n",
    "df_GoodReads.head()"
   ]
  },
  {
   "cell_type": "code",
   "execution_count": 3,
   "metadata": {},
   "outputs": [
    {
     "name": "stdout",
     "output_type": "stream",
     "text": [
      "<class 'pandas.core.frame.DataFrame'>\n",
      "Index: 11123 entries, 1 to 45641\n",
      "Data columns (total 11 columns):\n",
      " #   Column              Non-Null Count  Dtype  \n",
      "---  ------              --------------  -----  \n",
      " 0   title               11123 non-null  object \n",
      " 1   authors             11123 non-null  object \n",
      " 2   average_rating      11123 non-null  float64\n",
      " 3   isbn                11123 non-null  object \n",
      " 4   isbn13              11123 non-null  int64  \n",
      " 5   language_code       11123 non-null  object \n",
      " 6     num_pages         11123 non-null  int64  \n",
      " 7   ratings_count       11123 non-null  int64  \n",
      " 8   text_reviews_count  11123 non-null  int64  \n",
      " 9   publication_date    11123 non-null  object \n",
      " 10  publisher           11123 non-null  object \n",
      "dtypes: float64(1), int64(4), object(6)\n",
      "memory usage: 1.0+ MB\n"
     ]
    }
   ],
   "source": [
    "df_GoodReads.info()"
   ]
  },
  {
   "cell_type": "code",
   "execution_count": 4,
   "metadata": {},
   "outputs": [
    {
     "data": {
      "text/html": [
       "<div>\n",
       "<style scoped>\n",
       "    .dataframe tbody tr th:only-of-type {\n",
       "        vertical-align: middle;\n",
       "    }\n",
       "\n",
       "    .dataframe tbody tr th {\n",
       "        vertical-align: top;\n",
       "    }\n",
       "\n",
       "    .dataframe thead th {\n",
       "        text-align: right;\n",
       "    }\n",
       "</style>\n",
       "<table border=\"1\" class=\"dataframe\">\n",
       "  <thead>\n",
       "    <tr style=\"text-align: right;\">\n",
       "      <th></th>\n",
       "      <th>Title</th>\n",
       "      <th>Authors</th>\n",
       "      <th>Publisher</th>\n",
       "      <th>Year</th>\n",
       "      <th>Language</th>\n",
       "      <th>ISBN-13</th>\n",
       "    </tr>\n",
       "    <tr>\n",
       "      <th>bookID</th>\n",
       "      <th></th>\n",
       "      <th></th>\n",
       "      <th></th>\n",
       "      <th></th>\n",
       "      <th></th>\n",
       "      <th></th>\n",
       "    </tr>\n",
       "  </thead>\n",
       "  <tbody>\n",
       "    <tr>\n",
       "      <th>1</th>\n",
       "      <td>NaN</td>\n",
       "      <td>NaN</td>\n",
       "      <td>NaN</td>\n",
       "      <td>NaN</td>\n",
       "      <td>NaN</td>\n",
       "      <td>NaN</td>\n",
       "    </tr>\n",
       "    <tr>\n",
       "      <th>2</th>\n",
       "      <td>Harry Potter</td>\n",
       "      <td>['J. K. Rowling']</td>\n",
       "      <td>NaN</td>\n",
       "      <td>2008</td>\n",
       "      <td>en</td>\n",
       "      <td>9.780439e+12</td>\n",
       "    </tr>\n",
       "    <tr>\n",
       "      <th>4</th>\n",
       "      <td>Harry Potter And The Chamber Of Secrets</td>\n",
       "      <td>['J. K. Rowling', 'Mary GrandPre']</td>\n",
       "      <td>Arthur a Levine</td>\n",
       "      <td>2003</td>\n",
       "      <td>en</td>\n",
       "      <td>9.780440e+12</td>\n",
       "    </tr>\n",
       "    <tr>\n",
       "      <th>5</th>\n",
       "      <td>Harry Potter And The Prisoner Of Azkaban</td>\n",
       "      <td>['J. K. Rowling']</td>\n",
       "      <td>Scholastic Paperbacks</td>\n",
       "      <td>2004</td>\n",
       "      <td>en</td>\n",
       "      <td>9.780440e+12</td>\n",
       "    </tr>\n",
       "    <tr>\n",
       "      <th>8</th>\n",
       "      <td>NaN</td>\n",
       "      <td>NaN</td>\n",
       "      <td>NaN</td>\n",
       "      <td>NaN</td>\n",
       "      <td>NaN</td>\n",
       "      <td>NaN</td>\n",
       "    </tr>\n",
       "  </tbody>\n",
       "</table>\n",
       "</div>"
      ],
      "text/plain": [
       "                                           Title  \\\n",
       "bookID                                             \n",
       "1                                            NaN   \n",
       "2                                   Harry Potter   \n",
       "4        Harry Potter And The Chamber Of Secrets   \n",
       "5       Harry Potter And The Prisoner Of Azkaban   \n",
       "8                                            NaN   \n",
       "\n",
       "                                   Authors              Publisher  Year  \\\n",
       "bookID                                                                    \n",
       "1                                      NaN                    NaN   NaN   \n",
       "2                        ['J. K. Rowling']                    NaN  2008   \n",
       "4       ['J. K. Rowling', 'Mary GrandPre']        Arthur a Levine  2003   \n",
       "5                        ['J. K. Rowling']  Scholastic Paperbacks  2004   \n",
       "8                                      NaN                    NaN   NaN   \n",
       "\n",
       "       Language       ISBN-13  \n",
       "bookID                         \n",
       "1           NaN           NaN  \n",
       "2            en  9.780439e+12  \n",
       "4            en  9.780440e+12  \n",
       "5            en  9.780440e+12  \n",
       "8           NaN           NaN  "
      ]
     },
     "execution_count": 4,
     "metadata": {},
     "output_type": "execute_result"
    }
   ],
   "source": [
    "# We have extracted the metadata from the isbn number using isbnlib standard library\n",
    "\n",
    "df_isbn_metadata = pd.read_csv('C:/Users/lucyc/Documents/Projects/ML Python/isbn_metadata.csv', index_col='bookID')\n",
    "df_isbn_metadata.head()"
   ]
  },
  {
   "cell_type": "code",
   "execution_count": 5,
   "metadata": {},
   "outputs": [
    {
     "name": "stdout",
     "output_type": "stream",
     "text": [
      "<class 'pandas.core.frame.DataFrame'>\n",
      "Index: 11123 entries, 1 to 45641\n",
      "Data columns (total 6 columns):\n",
      " #   Column     Non-Null Count  Dtype  \n",
      "---  ------     --------------  -----  \n",
      " 0   Title      10513 non-null  object \n",
      " 1   Authors    10513 non-null  object \n",
      " 2   Publisher  9064 non-null   object \n",
      " 3   Year       10502 non-null  object \n",
      " 4   Language   10513 non-null  object \n",
      " 5   ISBN-13    10513 non-null  float64\n",
      "dtypes: float64(1), object(5)\n",
      "memory usage: 608.3+ KB\n"
     ]
    }
   ],
   "source": [
    "df_isbn_metadata.info()"
   ]
  },
  {
   "cell_type": "code",
   "execution_count": 6,
   "metadata": {},
   "outputs": [],
   "source": [
    "# The isbn metadata is missing 600 rows and 2000 values for pubisher\n",
    "# We found that all the data we can get from the isbn number is already in our Goodreads DF so we can drop these two columns\n",
    "df_GoodReads = df_GoodReads.drop('isbn', axis=1)\n",
    "df_GoodReads = df_GoodReads.drop('isbn13', axis=1)"
   ]
  },
  {
   "cell_type": "code",
   "execution_count": 7,
   "metadata": {},
   "outputs": [
    {
     "data": {
      "text/html": [
       "<div>\n",
       "<style scoped>\n",
       "    .dataframe tbody tr th:only-of-type {\n",
       "        vertical-align: middle;\n",
       "    }\n",
       "\n",
       "    .dataframe tbody tr th {\n",
       "        vertical-align: top;\n",
       "    }\n",
       "\n",
       "    .dataframe thead th {\n",
       "        text-align: right;\n",
       "    }\n",
       "</style>\n",
       "<table border=\"1\" class=\"dataframe\">\n",
       "  <thead>\n",
       "    <tr style=\"text-align: right;\">\n",
       "      <th></th>\n",
       "      <th>average_rating</th>\n",
       "      <th>num_pages</th>\n",
       "      <th>ratings_count</th>\n",
       "      <th>text_reviews_count</th>\n",
       "    </tr>\n",
       "  </thead>\n",
       "  <tbody>\n",
       "    <tr>\n",
       "      <th>count</th>\n",
       "      <td>11123.000000</td>\n",
       "      <td>11123.000000</td>\n",
       "      <td>1.112300e+04</td>\n",
       "      <td>11123.000000</td>\n",
       "    </tr>\n",
       "    <tr>\n",
       "      <th>mean</th>\n",
       "      <td>3.934075</td>\n",
       "      <td>336.405556</td>\n",
       "      <td>1.794285e+04</td>\n",
       "      <td>542.048099</td>\n",
       "    </tr>\n",
       "    <tr>\n",
       "      <th>std</th>\n",
       "      <td>0.350485</td>\n",
       "      <td>241.152626</td>\n",
       "      <td>1.124992e+05</td>\n",
       "      <td>2576.619589</td>\n",
       "    </tr>\n",
       "    <tr>\n",
       "      <th>min</th>\n",
       "      <td>0.000000</td>\n",
       "      <td>0.000000</td>\n",
       "      <td>0.000000e+00</td>\n",
       "      <td>0.000000</td>\n",
       "    </tr>\n",
       "    <tr>\n",
       "      <th>25%</th>\n",
       "      <td>3.770000</td>\n",
       "      <td>192.000000</td>\n",
       "      <td>1.040000e+02</td>\n",
       "      <td>9.000000</td>\n",
       "    </tr>\n",
       "    <tr>\n",
       "      <th>50%</th>\n",
       "      <td>3.960000</td>\n",
       "      <td>299.000000</td>\n",
       "      <td>7.450000e+02</td>\n",
       "      <td>47.000000</td>\n",
       "    </tr>\n",
       "    <tr>\n",
       "      <th>75%</th>\n",
       "      <td>4.140000</td>\n",
       "      <td>416.000000</td>\n",
       "      <td>5.000500e+03</td>\n",
       "      <td>238.000000</td>\n",
       "    </tr>\n",
       "    <tr>\n",
       "      <th>max</th>\n",
       "      <td>5.000000</td>\n",
       "      <td>6576.000000</td>\n",
       "      <td>4.597666e+06</td>\n",
       "      <td>94265.000000</td>\n",
       "    </tr>\n",
       "  </tbody>\n",
       "</table>\n",
       "</div>"
      ],
      "text/plain": [
       "       average_rating     num_pages  ratings_count  text_reviews_count\n",
       "count    11123.000000  11123.000000   1.112300e+04        11123.000000\n",
       "mean         3.934075    336.405556   1.794285e+04          542.048099\n",
       "std          0.350485    241.152626   1.124992e+05         2576.619589\n",
       "min          0.000000      0.000000   0.000000e+00            0.000000\n",
       "25%          3.770000    192.000000   1.040000e+02            9.000000\n",
       "50%          3.960000    299.000000   7.450000e+02           47.000000\n",
       "75%          4.140000    416.000000   5.000500e+03          238.000000\n",
       "max          5.000000   6576.000000   4.597666e+06        94265.000000"
      ]
     },
     "execution_count": 7,
     "metadata": {},
     "output_type": "execute_result"
    }
   ],
   "source": [
    "df_GoodReads.describe()"
   ]
  },
  {
   "cell_type": "code",
   "execution_count": 8,
   "metadata": {},
   "outputs": [
    {
     "data": {
      "text/html": [
       "<div>\n",
       "<style scoped>\n",
       "    .dataframe tbody tr th:only-of-type {\n",
       "        vertical-align: middle;\n",
       "    }\n",
       "\n",
       "    .dataframe tbody tr th {\n",
       "        vertical-align: top;\n",
       "    }\n",
       "\n",
       "    .dataframe thead th {\n",
       "        text-align: right;\n",
       "    }\n",
       "</style>\n",
       "<table border=\"1\" class=\"dataframe\">\n",
       "  <thead>\n",
       "    <tr style=\"text-align: right;\">\n",
       "      <th></th>\n",
       "      <th>title</th>\n",
       "      <th>authors</th>\n",
       "      <th>average_rating</th>\n",
       "      <th>language_code</th>\n",
       "      <th>num_pages</th>\n",
       "      <th>ratings_count</th>\n",
       "      <th>text_reviews_count</th>\n",
       "      <th>publication_date</th>\n",
       "      <th>publisher</th>\n",
       "    </tr>\n",
       "    <tr>\n",
       "      <th>bookID</th>\n",
       "      <th></th>\n",
       "      <th></th>\n",
       "      <th></th>\n",
       "      <th></th>\n",
       "      <th></th>\n",
       "      <th></th>\n",
       "      <th></th>\n",
       "      <th></th>\n",
       "      <th></th>\n",
       "    </tr>\n",
       "  </thead>\n",
       "  <tbody>\n",
       "    <tr>\n",
       "      <th>159</th>\n",
       "      <td>Dinner with Anna Karenina</td>\n",
       "      <td>Gloria Goldreich</td>\n",
       "      <td>2.99</td>\n",
       "      <td>eng</td>\n",
       "      <td>360</td>\n",
       "      <td>411</td>\n",
       "      <td>65</td>\n",
       "      <td>1/28/2006</td>\n",
       "      <td>Mira Books</td>\n",
       "    </tr>\n",
       "    <tr>\n",
       "      <th>799</th>\n",
       "      <td>Out to Eat London 2002 (Lonely Planet Out to Eat)</td>\n",
       "      <td>Lonely Planet/Mark Honan</td>\n",
       "      <td>0.00</td>\n",
       "      <td>eng</td>\n",
       "      <td>295</td>\n",
       "      <td>0</td>\n",
       "      <td>0</td>\n",
       "      <td>9/1/2001</td>\n",
       "      <td>Lonely Planet</td>\n",
       "    </tr>\n",
       "    <tr>\n",
       "      <th>1302</th>\n",
       "      <td>Juiced Official Strategy Guide</td>\n",
       "      <td>Doug Walsh</td>\n",
       "      <td>0.00</td>\n",
       "      <td>eng</td>\n",
       "      <td>112</td>\n",
       "      <td>0</td>\n",
       "      <td>0</td>\n",
       "      <td>6/1/2005</td>\n",
       "      <td>BradyGames</td>\n",
       "    </tr>\n",
       "    <tr>\n",
       "      <th>1584</th>\n",
       "      <td>Cliffs Notes on Aristophanes' Lysistrata  The ...</td>\n",
       "      <td>W. John Campbell</td>\n",
       "      <td>2.80</td>\n",
       "      <td>eng</td>\n",
       "      <td>80</td>\n",
       "      <td>5</td>\n",
       "      <td>0</td>\n",
       "      <td>12/29/1983</td>\n",
       "      <td>Cliffs Notes</td>\n",
       "    </tr>\n",
       "    <tr>\n",
       "      <th>1658</th>\n",
       "      <td>American Government: Continuity and Change  Al...</td>\n",
       "      <td>Karen  O'Connor/Larry J. Sabato</td>\n",
       "      <td>2.83</td>\n",
       "      <td>eng</td>\n",
       "      <td>664</td>\n",
       "      <td>0</td>\n",
       "      <td>0</td>\n",
       "      <td>3/11/2005</td>\n",
       "      <td>Longman Publishing Group</td>\n",
       "    </tr>\n",
       "    <tr>\n",
       "      <th>...</th>\n",
       "      <td>...</td>\n",
       "      <td>...</td>\n",
       "      <td>...</td>\n",
       "      <td>...</td>\n",
       "      <td>...</td>\n",
       "      <td>...</td>\n",
       "      <td>...</td>\n",
       "      <td>...</td>\n",
       "      <td>...</td>\n",
       "    </tr>\n",
       "    <tr>\n",
       "      <th>42808</th>\n",
       "      <td>P.S. I Love You (Sealed with a Kiss #4)</td>\n",
       "      <td>Valerie Parv</td>\n",
       "      <td>2.83</td>\n",
       "      <td>eng</td>\n",
       "      <td>192</td>\n",
       "      <td>23</td>\n",
       "      <td>1</td>\n",
       "      <td>4/24/1995</td>\n",
       "      <td>Harlequin Romance</td>\n",
       "    </tr>\n",
       "    <tr>\n",
       "      <th>42831</th>\n",
       "      <td>The Parrot-Head Companion: An Insider's Guide ...</td>\n",
       "      <td>Thomas Ryan</td>\n",
       "      <td>2.83</td>\n",
       "      <td>eng</td>\n",
       "      <td>176</td>\n",
       "      <td>6</td>\n",
       "      <td>0</td>\n",
       "      <td>1/1/1998</td>\n",
       "      <td>Citadel Press</td>\n",
       "    </tr>\n",
       "    <tr>\n",
       "      <th>44705</th>\n",
       "      <td>The Leadership Challenge: Skills for Taking Ch...</td>\n",
       "      <td>Warren G. Bennis</td>\n",
       "      <td>0.00</td>\n",
       "      <td>eng</td>\n",
       "      <td>60</td>\n",
       "      <td>0</td>\n",
       "      <td>0</td>\n",
       "      <td>12/1/1985</td>\n",
       "      <td>AMR/Advanced Management Reports</td>\n",
       "    </tr>\n",
       "    <tr>\n",
       "      <th>45259</th>\n",
       "      <td>Anthony Thwaite: In Conversation With Peter Da...</td>\n",
       "      <td>Peter  Dale/Ian          Hamilton/Anthony Thwaite</td>\n",
       "      <td>0.00</td>\n",
       "      <td>eng</td>\n",
       "      <td>96</td>\n",
       "      <td>0</td>\n",
       "      <td>0</td>\n",
       "      <td>12/9/1999</td>\n",
       "      <td>Between the Lines Productions</td>\n",
       "    </tr>\n",
       "    <tr>\n",
       "      <th>45516</th>\n",
       "      <td>The Die Broke Financial Problem Solver</td>\n",
       "      <td>Stephen M. Pollan/Mark LeVine</td>\n",
       "      <td>2.33</td>\n",
       "      <td>en-US</td>\n",
       "      <td>272</td>\n",
       "      <td>3</td>\n",
       "      <td>0</td>\n",
       "      <td>12/26/2000</td>\n",
       "      <td>William Morrow Paperbacks</td>\n",
       "    </tr>\n",
       "  </tbody>\n",
       "</table>\n",
       "<p>84 rows × 9 columns</p>\n",
       "</div>"
      ],
      "text/plain": [
       "                                                    title  \\\n",
       "bookID                                                      \n",
       "159                             Dinner with Anna Karenina   \n",
       "799     Out to Eat London 2002 (Lonely Planet Out to Eat)   \n",
       "1302                       Juiced Official Strategy Guide   \n",
       "1584    Cliffs Notes on Aristophanes' Lysistrata  The ...   \n",
       "1658    American Government: Continuity and Change  Al...   \n",
       "...                                                   ...   \n",
       "42808             P.S. I Love You (Sealed with a Kiss #4)   \n",
       "42831   The Parrot-Head Companion: An Insider's Guide ...   \n",
       "44705   The Leadership Challenge: Skills for Taking Ch...   \n",
       "45259   Anthony Thwaite: In Conversation With Peter Da...   \n",
       "45516              The Die Broke Financial Problem Solver   \n",
       "\n",
       "                                                  authors  average_rating  \\\n",
       "bookID                                                                      \n",
       "159                                      Gloria Goldreich            2.99   \n",
       "799                              Lonely Planet/Mark Honan            0.00   \n",
       "1302                                           Doug Walsh            0.00   \n",
       "1584                                     W. John Campbell            2.80   \n",
       "1658                      Karen  O'Connor/Larry J. Sabato            2.83   \n",
       "...                                                   ...             ...   \n",
       "42808                                        Valerie Parv            2.83   \n",
       "42831                                         Thomas Ryan            2.83   \n",
       "44705                                    Warren G. Bennis            0.00   \n",
       "45259   Peter  Dale/Ian          Hamilton/Anthony Thwaite            0.00   \n",
       "45516                       Stephen M. Pollan/Mark LeVine            2.33   \n",
       "\n",
       "       language_code    num_pages  ratings_count  text_reviews_count  \\\n",
       "bookID                                                                 \n",
       "159              eng          360            411                  65   \n",
       "799              eng          295              0                   0   \n",
       "1302             eng          112              0                   0   \n",
       "1584             eng           80              5                   0   \n",
       "1658             eng          664              0                   0   \n",
       "...              ...          ...            ...                 ...   \n",
       "42808            eng          192             23                   1   \n",
       "42831            eng          176              6                   0   \n",
       "44705            eng           60              0                   0   \n",
       "45259            eng           96              0                   0   \n",
       "45516          en-US          272              3                   0   \n",
       "\n",
       "       publication_date                        publisher  \n",
       "bookID                                                    \n",
       "159           1/28/2006                       Mira Books  \n",
       "799            9/1/2001                    Lonely Planet  \n",
       "1302           6/1/2005                       BradyGames  \n",
       "1584         12/29/1983                     Cliffs Notes  \n",
       "1658          3/11/2005         Longman Publishing Group  \n",
       "...                 ...                              ...  \n",
       "42808         4/24/1995                Harlequin Romance  \n",
       "42831          1/1/1998                    Citadel Press  \n",
       "44705         12/1/1985  AMR/Advanced Management Reports  \n",
       "45259         12/9/1999    Between the Lines Productions  \n",
       "45516        12/26/2000        William Morrow Paperbacks  \n",
       "\n",
       "[84 rows x 9 columns]"
      ]
     },
     "execution_count": 8,
     "metadata": {},
     "output_type": "execute_result"
    }
   ],
   "source": [
    "# We can see that 50% of average ratings lie between 3.78 and 4.14\n",
    "# We will now observe lower ratings to identify trends\n",
    "df_GoodReads[df_GoodReads['average_rating'] < 3]"
   ]
  },
  {
   "cell_type": "code",
   "execution_count": 9,
   "metadata": {},
   "outputs": [],
   "source": [
    "# We see here we have some 0 ratings counts which will not help us in predicting rating\n",
    "# We can therefore drop these rows\n",
    "df_GoodReads = df_GoodReads[df_GoodReads['ratings_count'] != 0]"
   ]
  },
  {
   "cell_type": "code",
   "execution_count": 10,
   "metadata": {},
   "outputs": [],
   "source": [
    "# We will start by cleaning up the title column of the goodreads dataframe by extracting the main title only\n",
    "df_GoodReads['title'] = df_GoodReads['title'].str.split(\"(\").str[0]"
   ]
  },
  {
   "cell_type": "code",
   "execution_count": 11,
   "metadata": {},
   "outputs": [],
   "source": [
    "# Removing duplicates\n",
    "df_GoodReads = df_GoodReads.loc[df_GoodReads.groupby(['title', 'authors', 'average_rating'])['ratings_count'].idxmax()]"
   ]
  },
  {
   "cell_type": "code",
   "execution_count": 12,
   "metadata": {},
   "outputs": [],
   "source": [
    "# And fixing num_pages header to get rid of leading spaces\n",
    "df_GoodReads.rename(columns={'  num_pages': 'num_pages'}, inplace=True)"
   ]
  },
  {
   "cell_type": "code",
   "execution_count": 13,
   "metadata": {},
   "outputs": [
    {
     "data": {
      "text/html": [
       "<div>\n",
       "<style scoped>\n",
       "    .dataframe tbody tr th:only-of-type {\n",
       "        vertical-align: middle;\n",
       "    }\n",
       "\n",
       "    .dataframe tbody tr th {\n",
       "        vertical-align: top;\n",
       "    }\n",
       "\n",
       "    .dataframe thead th {\n",
       "        text-align: right;\n",
       "    }\n",
       "</style>\n",
       "<table border=\"1\" class=\"dataframe\">\n",
       "  <thead>\n",
       "    <tr style=\"text-align: right;\">\n",
       "      <th></th>\n",
       "      <th>title</th>\n",
       "      <th>authors</th>\n",
       "      <th>average_rating</th>\n",
       "      <th>language_code</th>\n",
       "      <th>num_pages</th>\n",
       "      <th>ratings_count</th>\n",
       "      <th>text_reviews_count</th>\n",
       "      <th>publication_date</th>\n",
       "      <th>publisher</th>\n",
       "      <th>titles_grouped</th>\n",
       "    </tr>\n",
       "    <tr>\n",
       "      <th>bookID</th>\n",
       "      <th></th>\n",
       "      <th></th>\n",
       "      <th></th>\n",
       "      <th></th>\n",
       "      <th></th>\n",
       "      <th></th>\n",
       "      <th></th>\n",
       "      <th></th>\n",
       "      <th></th>\n",
       "      <th></th>\n",
       "    </tr>\n",
       "  </thead>\n",
       "  <tbody>\n",
       "    <tr>\n",
       "      <th>6549</th>\n",
       "      <td>said the shotgun to the head.</td>\n",
       "      <td>Saul Williams</td>\n",
       "      <td>4.22</td>\n",
       "      <td>en-US</td>\n",
       "      <td>192</td>\n",
       "      <td>2762</td>\n",
       "      <td>214</td>\n",
       "      <td>9/1/2003</td>\n",
       "      <td>MTV Books</td>\n",
       "      <td>Said Shotgun</td>\n",
       "    </tr>\n",
       "    <tr>\n",
       "      <th>14490</th>\n",
       "      <td>$30 Film School: How to Write  Direct  Produce...</td>\n",
       "      <td>Michael W. Dean</td>\n",
       "      <td>3.49</td>\n",
       "      <td>eng</td>\n",
       "      <td>528</td>\n",
       "      <td>30</td>\n",
       "      <td>4</td>\n",
       "      <td>5/13/2003</td>\n",
       "      <td>Cengage Learning</td>\n",
       "      <td>How Write</td>\n",
       "    </tr>\n",
       "    <tr>\n",
       "      <th>5415</th>\n",
       "      <td>'Salem's Lot</td>\n",
       "      <td>Stephen King</td>\n",
       "      <td>4.02</td>\n",
       "      <td>eng</td>\n",
       "      <td>405</td>\n",
       "      <td>1039</td>\n",
       "      <td>130</td>\n",
       "      <td>10/17/1975</td>\n",
       "      <td>Doubleday</td>\n",
       "      <td>Salem Lot</td>\n",
       "    </tr>\n",
       "    <tr>\n",
       "      <th>5413</th>\n",
       "      <td>'Salem's Lot</td>\n",
       "      <td>Stephen King/Jerry N. Uelsmann</td>\n",
       "      <td>4.25</td>\n",
       "      <td>eng</td>\n",
       "      <td>594</td>\n",
       "      <td>84123</td>\n",
       "      <td>571</td>\n",
       "      <td>11/1/2005</td>\n",
       "      <td>Doubleday</td>\n",
       "      <td>Salem Lot</td>\n",
       "    </tr>\n",
       "    <tr>\n",
       "      <th>5414</th>\n",
       "      <td>'Salem's Lot</td>\n",
       "      <td>Stephen King/Ron McLarty</td>\n",
       "      <td>4.02</td>\n",
       "      <td>eng</td>\n",
       "      <td>17</td>\n",
       "      <td>227</td>\n",
       "      <td>54</td>\n",
       "      <td>1/19/2004</td>\n",
       "      <td>Simon &amp; Schuster Audio</td>\n",
       "      <td>Salem Lot</td>\n",
       "    </tr>\n",
       "  </tbody>\n",
       "</table>\n",
       "</div>"
      ],
      "text/plain": [
       "                                                    title  \\\n",
       "bookID                                                      \n",
       "6549                        said the shotgun to the head.   \n",
       "14490   $30 Film School: How to Write  Direct  Produce...   \n",
       "5415                                         'Salem's Lot   \n",
       "5413                                         'Salem's Lot   \n",
       "5414                                         'Salem's Lot   \n",
       "\n",
       "                               authors  average_rating language_code  \\\n",
       "bookID                                                                 \n",
       "6549                     Saul Williams            4.22         en-US   \n",
       "14490                  Michael W. Dean            3.49           eng   \n",
       "5415                      Stephen King            4.02           eng   \n",
       "5413    Stephen King/Jerry N. Uelsmann            4.25           eng   \n",
       "5414          Stephen King/Ron McLarty            4.02           eng   \n",
       "\n",
       "        num_pages  ratings_count  text_reviews_count publication_date  \\\n",
       "bookID                                                                  \n",
       "6549          192           2762                 214         9/1/2003   \n",
       "14490         528             30                   4        5/13/2003   \n",
       "5415          405           1039                 130       10/17/1975   \n",
       "5413          594          84123                 571        11/1/2005   \n",
       "5414           17            227                  54        1/19/2004   \n",
       "\n",
       "                     publisher titles_grouped  \n",
       "bookID                                         \n",
       "6549                 MTV Books   Said Shotgun  \n",
       "14490         Cengage Learning      How Write  \n",
       "5415                 Doubleday      Salem Lot  \n",
       "5413                 Doubleday      Salem Lot  \n",
       "5414    Simon & Schuster Audio      Salem Lot  "
      ]
     },
     "execution_count": 13,
     "metadata": {},
     "output_type": "execute_result"
    }
   ],
   "source": [
    "# TITLE - COMMON PHRASES\n",
    "# We can see from the title column we have numerous titles with common strings\n",
    "# We will create a new column to group together these common titles\n",
    "\n",
    "# Defining connective words and eliminating them from the title\n",
    "connective_words = {'and', 'the', 'of', 'in', 'a', 'to'}\n",
    "\n",
    "def preprocess_title(title):\n",
    "    words = title.split()\n",
    "    return ' '.join([word for word in words if word.lower() not in connective_words])\n",
    "\n",
    "df_GoodReads['processed_title'] = df_GoodReads['title'].apply(preprocess_title)\n",
    "\n",
    "# Identifying Bigrams and Trigrams to group together common title phrases\n",
    "vectorizer = CountVectorizer(ngram_range=(2,3))\n",
    "X = vectorizer.fit_transform(df_GoodReads['processed_title'])\n",
    "\n",
    "phrases = vectorizer.get_feature_names_out()\n",
    "phrase_counts = X.sum(axis=0).tolist()[0]\n",
    "phrase_dict = {phrase: count for phrase, count in zip(phrases, phrase_counts)}\n",
    "\n",
    "# Searching for common phrases and returning the title if no common phrase found\n",
    "def find_common_phrase(title):\n",
    "    processed_title = preprocess_title(title)\n",
    "    title_phrases = vectorizer.transform([processed_title])\n",
    "    title_phrase_counts = title_phrases.toarray().flatten()\n",
    "\n",
    "    max_count = 0\n",
    "    max_phrase = None\n",
    "    for phrase, idx in vectorizer.vocabulary_.items():\n",
    "        if title_phrase_counts[idx] > 0:\n",
    "            if phrase_dict[phrase] > max_count:\n",
    "                max_count = phrase_dict[phrase]\n",
    "                max_phrase = phrase\n",
    "    if max_phrase:\n",
    "        return ' '.join([word.capitalize() for word in max_phrase.split()])\n",
    "    else:\n",
    "        return title\n",
    "\n",
    "df_GoodReads['titles_grouped'] = df_GoodReads['title'].apply(find_common_phrase)\n",
    "\n",
    "title_counts = df_GoodReads['titles_grouped'].value_counts()\n",
    "for title in title_counts[title_counts > 1].index:\n",
    "    df_GoodReads.loc[df_GoodReads['titles_grouped'] == title, 'titles_grouped']= title\n",
    "\n",
    "df_GoodReads = df_GoodReads.drop(columns = ['processed_title'])\n",
    "df_GoodReads.head()\n"
   ]
  },
  {
   "cell_type": "code",
   "execution_count": 14,
   "metadata": {},
   "outputs": [
    {
     "data": {
      "text/plain": [
       "titles_grouped\n",
       "Other Stories          46\n",
       "Star Wars              39\n",
       "Short Stories          34\n",
       "Lord Rings             28\n",
       "Harry Potter           26\n",
       "                       ..\n",
       "Jenny                   1\n",
       "Jennifer Government     1\n",
       "Jennifer Hecate         1\n",
       "Jeeves Offing           1\n",
       "魔戒首部曲 魔戒現身              1\n",
       "Name: count, Length: 7598, dtype: int64"
      ]
     },
     "execution_count": 14,
     "metadata": {},
     "output_type": "execute_result"
    }
   ],
   "source": [
    "# Now we want to see if title group has an impact on average rating\n",
    "df_GoodReads.titles_grouped.value_counts()"
   ]
  },
  {
   "cell_type": "code",
   "execution_count": 15,
   "metadata": {},
   "outputs": [
    {
     "data": {
      "text/plain": [
       "<Axes: xlabel='title_frequency', ylabel='average_rating'>"
      ]
     },
     "execution_count": 15,
     "metadata": {},
     "output_type": "execute_result"
    },
    {
     "data": {
      "image/png": "[encoded data removed]",
      "text/plain": [
       "<Figure size 640x480 with 1 Axes>"
      ]
     },
     "metadata": {},
     "output_type": "display_data"
    }
   ],
   "source": [
    "frequency_encoding = df_GoodReads['titles_grouped'].value_counts().to_dict()\n",
    "df_GoodReads['title_frequency'] = df_GoodReads['titles_grouped'].map(frequency_encoding)\n",
    "sns.barplot(x='title_frequency', y='average_rating', data= df_GoodReads)"
   ]
  },
  {
   "cell_type": "code",
   "execution_count": 16,
   "metadata": {},
   "outputs": [],
   "source": [
    "# Group together unique titles\n",
    "threshold_unique= 1\n",
    "title_groups = df_GoodReads['titles_grouped'].value_counts()\n",
    "unique_titles = title_groups[title_groups <= threshold_unique].index\n",
    "df_GoodReads['titles_grouped'] = df_GoodReads['titles_grouped'].apply(lambda x: 'Unique' if x in unique_titles else x)"
   ]
  },
  {
   "cell_type": "code",
   "execution_count": 17,
   "metadata": {},
   "outputs": [
    {
     "data": {
      "text/plain": [
       "<Axes: xlabel='titles_grouped', ylabel='average_rating'>"
      ]
     },
     "execution_count": 17,
     "metadata": {},
     "output_type": "execute_result"
    },
    {
     "data": {
      "image/png": "[encoded data removed]",
      "text/plain": [
       "<Figure size 640x480 with 1 Axes>"
      ]
     },
     "metadata": {},
     "output_type": "display_data"
    }
   ],
   "source": [
    "# We will zoom in on the groups which contain over 20 books to observe\n",
    "counts = df_GoodReads['titles_grouped'].value_counts()\n",
    "to_keep = counts[counts > 20].index\n",
    "df_title_count_filter = df_GoodReads[df_GoodReads['titles_grouped'].isin(to_keep)]\n",
    "sns.barplot(x='titles_grouped', y='average_rating', data= df_title_count_filter)"
   ]
  },
  {
   "cell_type": "code",
   "execution_count": 18,
   "metadata": {},
   "outputs": [
    {
     "data": {
      "text/plain": [
       "authors\n",
       "P.G. Wodehouse                           39\n",
       "Rumiko Takahashi                         38\n",
       "Orson Scott Card                         33\n",
       "Agatha Christie                          31\n",
       "Stephen King                             30\n",
       "                                         ..\n",
       "Philip Nel                                1\n",
       "Sean Smith                                1\n",
       "Walter Scott/Graham Tulloch               1\n",
       "Marianna Mayer/Walter Scott/John Rush     1\n",
       "Marguerite Henry/Wesley Dennis            1\n",
       "Name: count, Length: 6583, dtype: int64"
      ]
     },
     "execution_count": 18,
     "metadata": {},
     "output_type": "execute_result"
    }
   ],
   "source": [
    "df_GoodReads.authors.value_counts()"
   ]
  },
  {
   "cell_type": "code",
   "execution_count": 19,
   "metadata": {},
   "outputs": [
    {
     "data": {
      "text/html": [
       "<div>\n",
       "<style scoped>\n",
       "    .dataframe tbody tr th:only-of-type {\n",
       "        vertical-align: middle;\n",
       "    }\n",
       "\n",
       "    .dataframe tbody tr th {\n",
       "        vertical-align: top;\n",
       "    }\n",
       "\n",
       "    .dataframe thead th {\n",
       "        text-align: right;\n",
       "    }\n",
       "</style>\n",
       "<table border=\"1\" class=\"dataframe\">\n",
       "  <thead>\n",
       "    <tr style=\"text-align: right;\">\n",
       "      <th></th>\n",
       "      <th>title</th>\n",
       "      <th>authors</th>\n",
       "      <th>average_rating</th>\n",
       "      <th>language_code</th>\n",
       "      <th>num_pages</th>\n",
       "      <th>ratings_count</th>\n",
       "      <th>text_reviews_count</th>\n",
       "      <th>publication_date</th>\n",
       "      <th>publisher</th>\n",
       "      <th>titles_grouped</th>\n",
       "      <th>title_frequency</th>\n",
       "    </tr>\n",
       "    <tr>\n",
       "      <th>bookID</th>\n",
       "      <th></th>\n",
       "      <th></th>\n",
       "      <th></th>\n",
       "      <th></th>\n",
       "      <th></th>\n",
       "      <th></th>\n",
       "      <th></th>\n",
       "      <th></th>\n",
       "      <th></th>\n",
       "      <th></th>\n",
       "      <th></th>\n",
       "    </tr>\n",
       "  </thead>\n",
       "  <tbody>\n",
       "    <tr>\n",
       "      <th>6549</th>\n",
       "      <td>said the shotgun to the head.</td>\n",
       "      <td>Saul Williams</td>\n",
       "      <td>4.22</td>\n",
       "      <td>en-US</td>\n",
       "      <td>192</td>\n",
       "      <td>2762</td>\n",
       "      <td>214</td>\n",
       "      <td>9/1/2003</td>\n",
       "      <td>MTV Books</td>\n",
       "      <td>Unique</td>\n",
       "      <td>1</td>\n",
       "    </tr>\n",
       "    <tr>\n",
       "      <th>14490</th>\n",
       "      <td>$30 Film School: How to Write  Direct  Produce...</td>\n",
       "      <td>Michael W. Dean</td>\n",
       "      <td>3.49</td>\n",
       "      <td>eng</td>\n",
       "      <td>528</td>\n",
       "      <td>30</td>\n",
       "      <td>4</td>\n",
       "      <td>5/13/2003</td>\n",
       "      <td>Cengage Learning</td>\n",
       "      <td>How Write</td>\n",
       "      <td>4</td>\n",
       "    </tr>\n",
       "    <tr>\n",
       "      <th>5415</th>\n",
       "      <td>'Salem's Lot</td>\n",
       "      <td>Stephen King</td>\n",
       "      <td>4.02</td>\n",
       "      <td>eng</td>\n",
       "      <td>405</td>\n",
       "      <td>1039</td>\n",
       "      <td>130</td>\n",
       "      <td>10/17/1975</td>\n",
       "      <td>Doubleday</td>\n",
       "      <td>Salem Lot</td>\n",
       "      <td>5</td>\n",
       "    </tr>\n",
       "    <tr>\n",
       "      <th>5413</th>\n",
       "      <td>'Salem's Lot</td>\n",
       "      <td>Stephen King/Jerry N. Uelsmann</td>\n",
       "      <td>4.25</td>\n",
       "      <td>eng</td>\n",
       "      <td>594</td>\n",
       "      <td>84123</td>\n",
       "      <td>571</td>\n",
       "      <td>11/1/2005</td>\n",
       "      <td>Doubleday</td>\n",
       "      <td>Salem Lot</td>\n",
       "      <td>5</td>\n",
       "    </tr>\n",
       "    <tr>\n",
       "      <th>5414</th>\n",
       "      <td>'Salem's Lot</td>\n",
       "      <td>Stephen King/Ron McLarty</td>\n",
       "      <td>4.02</td>\n",
       "      <td>eng</td>\n",
       "      <td>17</td>\n",
       "      <td>227</td>\n",
       "      <td>54</td>\n",
       "      <td>1/19/2004</td>\n",
       "      <td>Simon &amp; Schuster Audio</td>\n",
       "      <td>Salem Lot</td>\n",
       "      <td>5</td>\n",
       "    </tr>\n",
       "  </tbody>\n",
       "</table>\n",
       "</div>"
      ],
      "text/plain": [
       "                                                    title  \\\n",
       "bookID                                                      \n",
       "6549                        said the shotgun to the head.   \n",
       "14490   $30 Film School: How to Write  Direct  Produce...   \n",
       "5415                                         'Salem's Lot   \n",
       "5413                                         'Salem's Lot   \n",
       "5414                                         'Salem's Lot   \n",
       "\n",
       "                               authors  average_rating language_code  \\\n",
       "bookID                                                                 \n",
       "6549                     Saul Williams            4.22         en-US   \n",
       "14490                  Michael W. Dean            3.49           eng   \n",
       "5415                      Stephen King            4.02           eng   \n",
       "5413    Stephen King/Jerry N. Uelsmann            4.25           eng   \n",
       "5414          Stephen King/Ron McLarty            4.02           eng   \n",
       "\n",
       "        num_pages  ratings_count  text_reviews_count publication_date  \\\n",
       "bookID                                                                  \n",
       "6549          192           2762                 214         9/1/2003   \n",
       "14490         528             30                   4        5/13/2003   \n",
       "5415          405           1039                 130       10/17/1975   \n",
       "5413          594          84123                 571        11/1/2005   \n",
       "5414           17            227                  54        1/19/2004   \n",
       "\n",
       "                     publisher titles_grouped  title_frequency  \n",
       "bookID                                                          \n",
       "6549                 MTV Books         Unique                1  \n",
       "14490         Cengage Learning      How Write                4  \n",
       "5415                 Doubleday      Salem Lot                5  \n",
       "5413                 Doubleday      Salem Lot                5  \n",
       "5414    Simon & Schuster Audio      Salem Lot                5  "
      ]
     },
     "execution_count": 19,
     "metadata": {},
     "output_type": "execute_result"
    }
   ],
   "source": [
    "df_GoodReads.head()"
   ]
  },
  {
   "cell_type": "code",
   "execution_count": 20,
   "metadata": {},
   "outputs": [
    {
     "data": {
      "text/html": [
       "<div>\n",
       "<style scoped>\n",
       "    .dataframe tbody tr th:only-of-type {\n",
       "        vertical-align: middle;\n",
       "    }\n",
       "\n",
       "    .dataframe tbody tr th {\n",
       "        vertical-align: top;\n",
       "    }\n",
       "\n",
       "    .dataframe thead th {\n",
       "        text-align: right;\n",
       "    }\n",
       "</style>\n",
       "<table border=\"1\" class=\"dataframe\">\n",
       "  <thead>\n",
       "    <tr style=\"text-align: right;\">\n",
       "      <th></th>\n",
       "      <th>title</th>\n",
       "      <th>authors</th>\n",
       "      <th>average_rating</th>\n",
       "      <th>language_code</th>\n",
       "      <th>num_pages</th>\n",
       "      <th>ratings_count</th>\n",
       "      <th>text_reviews_count</th>\n",
       "      <th>publication_date</th>\n",
       "      <th>publisher</th>\n",
       "      <th>titles_grouped</th>\n",
       "      <th>title_frequency</th>\n",
       "      <th>main_author</th>\n",
       "    </tr>\n",
       "    <tr>\n",
       "      <th>bookID</th>\n",
       "      <th></th>\n",
       "      <th></th>\n",
       "      <th></th>\n",
       "      <th></th>\n",
       "      <th></th>\n",
       "      <th></th>\n",
       "      <th></th>\n",
       "      <th></th>\n",
       "      <th></th>\n",
       "      <th></th>\n",
       "      <th></th>\n",
       "      <th></th>\n",
       "    </tr>\n",
       "  </thead>\n",
       "  <tbody>\n",
       "    <tr>\n",
       "      <th>6549</th>\n",
       "      <td>said the shotgun to the head.</td>\n",
       "      <td>Saul Williams</td>\n",
       "      <td>4.22</td>\n",
       "      <td>en-US</td>\n",
       "      <td>192</td>\n",
       "      <td>2762</td>\n",
       "      <td>214</td>\n",
       "      <td>9/1/2003</td>\n",
       "      <td>MTV Books</td>\n",
       "      <td>Unique</td>\n",
       "      <td>1</td>\n",
       "      <td>Saul Williams</td>\n",
       "    </tr>\n",
       "    <tr>\n",
       "      <th>14490</th>\n",
       "      <td>$30 Film School: How to Write  Direct  Produce...</td>\n",
       "      <td>Michael W. Dean</td>\n",
       "      <td>3.49</td>\n",
       "      <td>eng</td>\n",
       "      <td>528</td>\n",
       "      <td>30</td>\n",
       "      <td>4</td>\n",
       "      <td>5/13/2003</td>\n",
       "      <td>Cengage Learning</td>\n",
       "      <td>How Write</td>\n",
       "      <td>4</td>\n",
       "      <td>Michael W. Dean</td>\n",
       "    </tr>\n",
       "    <tr>\n",
       "      <th>5415</th>\n",
       "      <td>'Salem's Lot</td>\n",
       "      <td>Stephen King</td>\n",
       "      <td>4.02</td>\n",
       "      <td>eng</td>\n",
       "      <td>405</td>\n",
       "      <td>1039</td>\n",
       "      <td>130</td>\n",
       "      <td>10/17/1975</td>\n",
       "      <td>Doubleday</td>\n",
       "      <td>Salem Lot</td>\n",
       "      <td>5</td>\n",
       "      <td>Stephen King</td>\n",
       "    </tr>\n",
       "    <tr>\n",
       "      <th>5413</th>\n",
       "      <td>'Salem's Lot</td>\n",
       "      <td>Stephen King/Jerry N. Uelsmann</td>\n",
       "      <td>4.25</td>\n",
       "      <td>eng</td>\n",
       "      <td>594</td>\n",
       "      <td>84123</td>\n",
       "      <td>571</td>\n",
       "      <td>11/1/2005</td>\n",
       "      <td>Doubleday</td>\n",
       "      <td>Salem Lot</td>\n",
       "      <td>5</td>\n",
       "      <td>Stephen King</td>\n",
       "    </tr>\n",
       "    <tr>\n",
       "      <th>5414</th>\n",
       "      <td>'Salem's Lot</td>\n",
       "      <td>Stephen King/Ron McLarty</td>\n",
       "      <td>4.02</td>\n",
       "      <td>eng</td>\n",
       "      <td>17</td>\n",
       "      <td>227</td>\n",
       "      <td>54</td>\n",
       "      <td>1/19/2004</td>\n",
       "      <td>Simon &amp; Schuster Audio</td>\n",
       "      <td>Salem Lot</td>\n",
       "      <td>5</td>\n",
       "      <td>Stephen King</td>\n",
       "    </tr>\n",
       "  </tbody>\n",
       "</table>\n",
       "</div>"
      ],
      "text/plain": [
       "                                                    title  \\\n",
       "bookID                                                      \n",
       "6549                        said the shotgun to the head.   \n",
       "14490   $30 Film School: How to Write  Direct  Produce...   \n",
       "5415                                         'Salem's Lot   \n",
       "5413                                         'Salem's Lot   \n",
       "5414                                         'Salem's Lot   \n",
       "\n",
       "                               authors  average_rating language_code  \\\n",
       "bookID                                                                 \n",
       "6549                     Saul Williams            4.22         en-US   \n",
       "14490                  Michael W. Dean            3.49           eng   \n",
       "5415                      Stephen King            4.02           eng   \n",
       "5413    Stephen King/Jerry N. Uelsmann            4.25           eng   \n",
       "5414          Stephen King/Ron McLarty            4.02           eng   \n",
       "\n",
       "        num_pages  ratings_count  text_reviews_count publication_date  \\\n",
       "bookID                                                                  \n",
       "6549          192           2762                 214         9/1/2003   \n",
       "14490         528             30                   4        5/13/2003   \n",
       "5415          405           1039                 130       10/17/1975   \n",
       "5413          594          84123                 571        11/1/2005   \n",
       "5414           17            227                  54        1/19/2004   \n",
       "\n",
       "                     publisher titles_grouped  title_frequency  \\\n",
       "bookID                                                           \n",
       "6549                 MTV Books         Unique                1   \n",
       "14490         Cengage Learning      How Write                4   \n",
       "5415                 Doubleday      Salem Lot                5   \n",
       "5413                 Doubleday      Salem Lot                5   \n",
       "5414    Simon & Schuster Audio      Salem Lot                5   \n",
       "\n",
       "            main_author  \n",
       "bookID                   \n",
       "6549      Saul Williams  \n",
       "14490   Michael W. Dean  \n",
       "5415       Stephen King  \n",
       "5413       Stephen King  \n",
       "5414       Stephen King  "
      ]
     },
     "execution_count": 20,
     "metadata": {},
     "output_type": "execute_result"
    }
   ],
   "source": [
    "# Finding the most frequently occuring author in each row\n",
    "split_strings = df_GoodReads['authors'].str.split('/')\n",
    "authors_sep = [item for sublist in split_strings for item in sublist]\n",
    "author_counts = Counter(authors_sep)\n",
    "\n",
    "def find_mf_author(authors_list):\n",
    "    most_frequent = max(authors_list, key=lambda x: author_counts[x])\n",
    "    return most_frequent\n",
    "\n",
    "df_GoodReads['main_author'] = split_strings.apply(find_mf_author)\n",
    "df_GoodReads.head()"
   ]
  },
  {
   "cell_type": "code",
   "execution_count": 21,
   "metadata": {},
   "outputs": [
    {
     "data": {
      "text/plain": [
       "main_author\n",
       "William Shakespeare    91\n",
       "Stephen King           83\n",
       "J.R.R. Tolkien         50\n",
       "Sandra Brown           46\n",
       "P.G. Wodehouse         46\n",
       "                       ..\n",
       "Shirin Ebadi            1\n",
       "Ashley Shannon          1\n",
       "Darina Allen            1\n",
       "Christopher   Clark     1\n",
       "Lolita Files            1\n",
       "Name: count, Length: 3875, dtype: int64"
      ]
     },
     "execution_count": 21,
     "metadata": {},
     "output_type": "execute_result"
    }
   ],
   "source": [
    "df_GoodReads.main_author.value_counts()"
   ]
  },
  {
   "cell_type": "code",
   "execution_count": 22,
   "metadata": {},
   "outputs": [
    {
     "data": {
      "text/plain": [
       "authors\n",
       "P.G. Wodehouse                           39\n",
       "Rumiko Takahashi                         38\n",
       "Orson Scott Card                         33\n",
       "Agatha Christie                          31\n",
       "Stephen King                             30\n",
       "                                         ..\n",
       "Philip Nel                                1\n",
       "Sean Smith                                1\n",
       "Walter Scott/Graham Tulloch               1\n",
       "Marianna Mayer/Walter Scott/John Rush     1\n",
       "Marguerite Henry/Wesley Dennis            1\n",
       "Name: count, Length: 6583, dtype: int64"
      ]
     },
     "execution_count": 22,
     "metadata": {},
     "output_type": "execute_result"
    }
   ],
   "source": [
    "df_GoodReads.authors.value_counts()"
   ]
  },
  {
   "cell_type": "code",
   "execution_count": 23,
   "metadata": {},
   "outputs": [],
   "source": [
    "# AUTHORS - FREQUENCY\n",
    "# We have numerous repeat authors in our dataframe and would like to see if the frequency of an authors appearance in the dataframe affects rating\n",
    "# For this we will use frequency encoding\n",
    "df_GoodReads['authors'] = df_GoodReads['authors'].str.split(\"/\").str[0]\n",
    "frequency_encoding = df_GoodReads['authors'].value_counts().to_dict()\n",
    "df_GoodReads['author_frequency'] = df_GoodReads['authors'].map(frequency_encoding)"
   ]
  },
  {
   "cell_type": "code",
   "execution_count": 24,
   "metadata": {},
   "outputs": [],
   "source": [
    "\n",
    "frequency_encoding = df_GoodReads['main_author'].value_counts().to_dict()\n",
    "df_GoodReads['main_author_frequency'] = df_GoodReads['main_author'].map(frequency_encoding)"
   ]
  },
  {
   "cell_type": "code",
   "execution_count": 25,
   "metadata": {},
   "outputs": [
    {
     "data": {
      "text/plain": [
       "<Axes: xlabel='author_frequency', ylabel='average_rating'>"
      ]
     },
     "execution_count": 25,
     "metadata": {},
     "output_type": "execute_result"
    },
    {
     "data": {
      "image/png": "[encoded data removed]",
      "text/plain": [
       "<Figure size 640x480 with 1 Axes>"
      ]
     },
     "metadata": {},
     "output_type": "display_data"
    }
   ],
   "source": [
    "sns.barplot(x='author_frequency', y='average_rating', data=df_GoodReads)"
   ]
  },
  {
   "cell_type": "code",
   "execution_count": 26,
   "metadata": {},
   "outputs": [
    {
     "data": {
      "text/plain": [
       "language_code\n",
       "eng      8608\n",
       "en-US    1358\n",
       "spa       200\n",
       "en-GB     197\n",
       "fre       136\n",
       "ger        93\n",
       "jpn        45\n",
       "mul        19\n",
       "zho        14\n",
       "por        10\n",
       "grc         9\n",
       "en-CA       7\n",
       "ita         5\n",
       "enm         3\n",
       "lat         3\n",
       "swe         2\n",
       "rus         2\n",
       "ara         1\n",
       "nl          1\n",
       "msa         1\n",
       "ale         1\n",
       "glg         1\n",
       "nor         1\n",
       "tur         1\n",
       "wel         1\n",
       "gla         1\n",
       "Name: count, dtype: int64"
      ]
     },
     "execution_count": 26,
     "metadata": {},
     "output_type": "execute_result"
    }
   ],
   "source": [
    "df_GoodReads.language_code.value_counts()"
   ]
  },
  {
   "cell_type": "code",
   "execution_count": 27,
   "metadata": {},
   "outputs": [],
   "source": [
    "# LANGUAGE CODE\n",
    "# We will group all the english language codes together as one\n",
    "def modify_language(lang):\n",
    "    if lang.startswith('en'):\n",
    "        return 'eng'\n",
    "    return lang\n",
    "\n",
    "df_GoodReads['language_code'] = df_GoodReads['language_code'].apply(modify_language)"
   ]
  },
  {
   "cell_type": "code",
   "execution_count": 371,
   "metadata": {},
   "outputs": [
    {
     "data": {
      "text/plain": [
       "language_code\n",
       "eng    10173\n",
       "spa      200\n",
       "fre      136\n",
       "ger       93\n",
       "jpn       45\n",
       "mul       19\n",
       "zho       14\n",
       "por       10\n",
       "grc        9\n",
       "ita        5\n",
       "lat        3\n",
       "rus        2\n",
       "swe        2\n",
       "wel        1\n",
       "gla        1\n",
       "nor        1\n",
       "msa        1\n",
       "glg        1\n",
       "ale        1\n",
       "nl         1\n",
       "ara        1\n",
       "tur        1\n",
       "Name: count, dtype: int64"
      ]
     },
     "execution_count": 371,
     "metadata": {},
     "output_type": "execute_result"
    }
   ],
   "source": [
    "df_GoodReads.language_code.value_counts()"
   ]
  },
  {
   "cell_type": "code",
   "execution_count": 372,
   "metadata": {},
   "outputs": [
    {
     "data": {
      "text/plain": [
       "<Axes: xlabel='language_code', ylabel='average_rating'>"
      ]
     },
     "execution_count": 372,
     "metadata": {},
     "output_type": "execute_result"
    },
    {
     "data": {
      "image/png": "[encoded data removed]",
      "text/plain": [
       "<Figure size 640x480 with 1 Axes>"
      ]
     },
     "metadata": {},
     "output_type": "display_data"
    }
   ],
   "source": [
    "\n",
    "sns.barplot(x='language_code', y='average_rating', data=df_GoodReads)"
   ]
  },
  {
   "cell_type": "code",
   "execution_count": 28,
   "metadata": {},
   "outputs": [],
   "source": [
    "# We can see from this barplot that the average ratings for the highly represented languages are very similar\n",
    "# And the permutations occur only for language codes with 1 or 2 representants on goodreads\n",
    "# The underrepresented countries will be grouped together to observe\n",
    "threshold= 10\n",
    "language_counts = df_GoodReads['language_code'].value_counts()\n",
    "underrepresented_languages = language_counts[language_counts < threshold].index\n",
    "df_GoodReads['language_code'] = df_GoodReads['language_code'].apply(lambda x: 'Other' if x in underrepresented_languages else x)"
   ]
  },
  {
   "cell_type": "code",
   "execution_count": 374,
   "metadata": {},
   "outputs": [
    {
     "data": {
      "text/plain": [
       "<Axes: xlabel='language_code', ylabel='average_rating'>"
      ]
     },
     "execution_count": 374,
     "metadata": {},
     "output_type": "execute_result"
    },
    {
     "data": {
      "image/png": "[encoded data removed]",
      "text/plain": [
       "<Figure size 640x480 with 1 Axes>"
      ]
     },
     "metadata": {},
     "output_type": "display_data"
    }
   ],
   "source": [
    "sns.barplot(x='language_code', y='average_rating', data=df_GoodReads)"
   ]
  },
  {
   "cell_type": "code",
   "execution_count": 29,
   "metadata": {},
   "outputs": [
    {
     "data": {
      "text/plain": [
       "<Axes: xlabel='average_rating', ylabel='language_code'>"
      ]
     },
     "execution_count": 29,
     "metadata": {},
     "output_type": "execute_result"
    },
    {
     "data": {
      "image/png": "[encoded data removed]",
      "text/plain": [
       "<Figure size 640x480 with 1 Axes>"
      ]
     },
     "metadata": {},
     "output_type": "display_data"
    }
   ],
   "source": [
    "sns.boxplot(data=df_GoodReads, x='average_rating', y='language_code')"
   ]
  },
  {
   "cell_type": "code",
   "execution_count": 375,
   "metadata": {},
   "outputs": [],
   "source": [
    "# We can see that the average rating and spread of data for eng, fre, spa and ger are all very similar\n",
    "# As these countries make up 98% of our data, we will drop this column\n",
    "df_GoodReads = df_GoodReads.drop('language_code', axis=1)"
   ]
  },
  {
   "cell_type": "code",
   "execution_count": 376,
   "metadata": {},
   "outputs": [
    {
     "data": {
      "text/html": [
       "<div>\n",
       "<style scoped>\n",
       "    .dataframe tbody tr th:only-of-type {\n",
       "        vertical-align: middle;\n",
       "    }\n",
       "\n",
       "    .dataframe tbody tr th {\n",
       "        vertical-align: top;\n",
       "    }\n",
       "\n",
       "    .dataframe thead th {\n",
       "        text-align: right;\n",
       "    }\n",
       "</style>\n",
       "<table border=\"1\" class=\"dataframe\">\n",
       "  <thead>\n",
       "    <tr style=\"text-align: right;\">\n",
       "      <th></th>\n",
       "      <th>title</th>\n",
       "      <th>authors</th>\n",
       "      <th>average_rating</th>\n",
       "      <th>num_pages</th>\n",
       "      <th>ratings_count</th>\n",
       "      <th>text_reviews_count</th>\n",
       "      <th>publication_date</th>\n",
       "      <th>publisher</th>\n",
       "      <th>titles_grouped</th>\n",
       "      <th>title_frequency</th>\n",
       "      <th>main_author</th>\n",
       "      <th>author_frequency</th>\n",
       "      <th>main_author_frequency</th>\n",
       "    </tr>\n",
       "    <tr>\n",
       "      <th>bookID</th>\n",
       "      <th></th>\n",
       "      <th></th>\n",
       "      <th></th>\n",
       "      <th></th>\n",
       "      <th></th>\n",
       "      <th></th>\n",
       "      <th></th>\n",
       "      <th></th>\n",
       "      <th></th>\n",
       "      <th></th>\n",
       "      <th></th>\n",
       "      <th></th>\n",
       "      <th></th>\n",
       "    </tr>\n",
       "  </thead>\n",
       "  <tbody>\n",
       "    <tr>\n",
       "      <th>6549</th>\n",
       "      <td>said the shotgun to the head.</td>\n",
       "      <td>Saul Williams</td>\n",
       "      <td>4.22</td>\n",
       "      <td>192</td>\n",
       "      <td>2762</td>\n",
       "      <td>214</td>\n",
       "      <td>9/1/2003</td>\n",
       "      <td>MTV Books</td>\n",
       "      <td>Unique</td>\n",
       "      <td>1</td>\n",
       "      <td>Saul Williams</td>\n",
       "      <td>1</td>\n",
       "      <td>1</td>\n",
       "    </tr>\n",
       "    <tr>\n",
       "      <th>14490</th>\n",
       "      <td>$30 Film School: How to Write  Direct  Produce...</td>\n",
       "      <td>Michael W. Dean</td>\n",
       "      <td>3.49</td>\n",
       "      <td>528</td>\n",
       "      <td>30</td>\n",
       "      <td>4</td>\n",
       "      <td>5/13/2003</td>\n",
       "      <td>Cengage Learning</td>\n",
       "      <td>How Write</td>\n",
       "      <td>4</td>\n",
       "      <td>Michael W. Dean</td>\n",
       "      <td>1</td>\n",
       "      <td>1</td>\n",
       "    </tr>\n",
       "    <tr>\n",
       "      <th>5415</th>\n",
       "      <td>'Salem's Lot</td>\n",
       "      <td>Stephen King</td>\n",
       "      <td>4.02</td>\n",
       "      <td>405</td>\n",
       "      <td>1039</td>\n",
       "      <td>130</td>\n",
       "      <td>10/17/1975</td>\n",
       "      <td>Doubleday</td>\n",
       "      <td>Salem Lot</td>\n",
       "      <td>5</td>\n",
       "      <td>Stephen King</td>\n",
       "      <td>66</td>\n",
       "      <td>83</td>\n",
       "    </tr>\n",
       "    <tr>\n",
       "      <th>5413</th>\n",
       "      <td>'Salem's Lot</td>\n",
       "      <td>Stephen King</td>\n",
       "      <td>4.25</td>\n",
       "      <td>594</td>\n",
       "      <td>84123</td>\n",
       "      <td>571</td>\n",
       "      <td>11/1/2005</td>\n",
       "      <td>Doubleday</td>\n",
       "      <td>Salem Lot</td>\n",
       "      <td>5</td>\n",
       "      <td>Stephen King</td>\n",
       "      <td>66</td>\n",
       "      <td>83</td>\n",
       "    </tr>\n",
       "    <tr>\n",
       "      <th>5414</th>\n",
       "      <td>'Salem's Lot</td>\n",
       "      <td>Stephen King</td>\n",
       "      <td>4.02</td>\n",
       "      <td>17</td>\n",
       "      <td>227</td>\n",
       "      <td>54</td>\n",
       "      <td>1/19/2004</td>\n",
       "      <td>Simon &amp; Schuster Audio</td>\n",
       "      <td>Salem Lot</td>\n",
       "      <td>5</td>\n",
       "      <td>Stephen King</td>\n",
       "      <td>66</td>\n",
       "      <td>83</td>\n",
       "    </tr>\n",
       "  </tbody>\n",
       "</table>\n",
       "</div>"
      ],
      "text/plain": [
       "                                                    title          authors  \\\n",
       "bookID                                                                       \n",
       "6549                        said the shotgun to the head.    Saul Williams   \n",
       "14490   $30 Film School: How to Write  Direct  Produce...  Michael W. Dean   \n",
       "5415                                         'Salem's Lot     Stephen King   \n",
       "5413                                         'Salem's Lot     Stephen King   \n",
       "5414                                         'Salem's Lot     Stephen King   \n",
       "\n",
       "        average_rating  num_pages  ratings_count  text_reviews_count  \\\n",
       "bookID                                                                 \n",
       "6549              4.22        192           2762                 214   \n",
       "14490             3.49        528             30                   4   \n",
       "5415              4.02        405           1039                 130   \n",
       "5413              4.25        594          84123                 571   \n",
       "5414              4.02         17            227                  54   \n",
       "\n",
       "       publication_date               publisher titles_grouped  \\\n",
       "bookID                                                           \n",
       "6549           9/1/2003               MTV Books         Unique   \n",
       "14490         5/13/2003        Cengage Learning      How Write   \n",
       "5415         10/17/1975               Doubleday      Salem Lot   \n",
       "5413          11/1/2005               Doubleday      Salem Lot   \n",
       "5414          1/19/2004  Simon & Schuster Audio      Salem Lot   \n",
       "\n",
       "        title_frequency      main_author  author_frequency  \\\n",
       "bookID                                                       \n",
       "6549                  1    Saul Williams                 1   \n",
       "14490                 4  Michael W. Dean                 1   \n",
       "5415                  5     Stephen King                66   \n",
       "5413                  5     Stephen King                66   \n",
       "5414                  5     Stephen King                66   \n",
       "\n",
       "        main_author_frequency  \n",
       "bookID                         \n",
       "6549                        1  \n",
       "14490                       1  \n",
       "5415                       83  \n",
       "5413                       83  \n",
       "5414                       83  "
      ]
     },
     "execution_count": 376,
     "metadata": {},
     "output_type": "execute_result"
    }
   ],
   "source": [
    "df_GoodReads.head()"
   ]
  },
  {
   "cell_type": "code",
   "execution_count": 377,
   "metadata": {},
   "outputs": [
    {
     "data": {
      "text/plain": [
       "publisher\n",
       "Vintage                         310\n",
       "Penguin Books                   252\n",
       "Penguin Classics                180\n",
       "Mariner Books                   147\n",
       "Ballantine Books                141\n",
       "HarperCollins                   109\n",
       "Bantam                          108\n",
       "Harper Perennial                106\n",
       "Pocket Books                    104\n",
       "VIZ Media LLC                    88\n",
       "Dover Publications               85\n",
       "Berkley                          85\n",
       "Modern Library                   81\n",
       "Del Rey                          80\n",
       "Oxford University Press  USA     74\n",
       "Tor Books                        73\n",
       "Grand Central Publishing         73\n",
       "Oxford University Press          72\n",
       "Scribner                         71\n",
       "W. W. Norton  Company            67\n",
       "Cambridge University Press       65\n",
       "Simon  Schuster                  65\n",
       "Anchor                           60\n",
       "Signet                           59\n",
       "William Morrow Paperbacks        57\n",
       "Avon                             56\n",
       "Scholastic Paperbacks            55\n",
       "Penguin                          54\n",
       "Library of America               52\n",
       "Puffin Books                     50\n",
       "Name: count, dtype: int64"
      ]
     },
     "execution_count": 377,
     "metadata": {},
     "output_type": "execute_result"
    }
   ],
   "source": [
    "# PUBLISHER\n",
    "df_GoodReads.publisher.value_counts().head(30)"
   ]
  },
  {
   "cell_type": "code",
   "execution_count": 378,
   "metadata": {},
   "outputs": [],
   "source": [
    "# We have some values where we appear to have a main publishing house (Penguin) and a complementing branch (Books, Classics)\n",
    "# We want to know if the main house or the branch has a bigger impact than the other on rating"
   ]
  },
  {
   "cell_type": "code",
   "execution_count": 30,
   "metadata": {},
   "outputs": [
    {
     "name": "stdout",
     "output_type": "stream",
     "text": [
      "[('books', 2217), ('press', 1284), ('penguin', 577), ('university', 543), ('publishing', 484), ('vintage', 394), ('classics', 331), ('company', 324), ('house', 306), ('of', 275), ('w', 226), ('library', 223), ('harper', 217), ('paperbacks', 207), ('random', 198), ('publishers', 194), ('bantam', 190), ('simon', 182), ('harpercollins', 181), ('berkley', 169), ('schuster', 161), ('for', 152), ('oxford', 150), ('media', 150), ('publications', 148), ('mariner', 148), ('ballantine', 148), ('readers', 146), ('young', 144), ('pocket', 142), ('perennial', 140), ('norton', 140), ('st', 139), ('martins', 139), ('and', 131), ('usa', 127), ('scholastic', 126), ('inc', 123), ('viz', 122), ('audio', 120), ('modern', 118), ('del', 118), ('rey', 117), ('anchor', 104), ('tor', 104), ('llc', 103), ('william', 100), ('morrow', 98), ('group', 96), ('signet', 93)]\n"
     ]
    }
   ],
   "source": [
    "pub_words = ' '.join(df_GoodReads['publisher'])\n",
    "pub_words_clean = re.sub(r'[^\\w\\s]', '', pub_words).lower()\n",
    "words = pub_words_clean.split()\n",
    "word_counts = Counter(words)\n",
    "common_pubs = word_counts.most_common(50)\n",
    "print(common_pubs)"
   ]
  },
  {
   "cell_type": "code",
   "execution_count": 380,
   "metadata": {},
   "outputs": [
    {
     "data": {
      "text/plain": [
       "<Axes: xlabel='publisher', ylabel='average_rating'>"
      ]
     },
     "execution_count": 380,
     "metadata": {},
     "output_type": "execute_result"
    },
    {
     "data": {
      "image/png": "[encoded data removed]",
      "text/plain": [
       "<Figure size 640x480 with 1 Axes>"
      ]
     },
     "metadata": {},
     "output_type": "display_data"
    }
   ],
   "source": [
    "# We will examine some of the most highly represented publishing houses\n",
    "penguin_books = ['Penguin', 'Penguin Books', 'Penguin Classics']\n",
    "penguin_df = df_GoodReads[df_GoodReads['publisher'].isin(penguin_books)]\n",
    "sns.barplot(x='publisher', y='average_rating', data= penguin_df)"
   ]
  },
  {
   "cell_type": "code",
   "execution_count": 381,
   "metadata": {},
   "outputs": [
    {
     "data": {
      "text/plain": [
       "<Axes: xlabel='publisher', ylabel='average_rating'>"
      ]
     },
     "execution_count": 381,
     "metadata": {},
     "output_type": "execute_result"
    },
    {
     "data": {
      "image/png": "[encoded data removed]",
      "text/plain": [
       "<Figure size 640x480 with 1 Axes>"
      ]
     },
     "metadata": {},
     "output_type": "display_data"
    }
   ],
   "source": [
    "scholastic_books = ['Scholastic', 'Scholastic Inc', 'Scholastic Paperbacks']\n",
    "scholastic_df = df_GoodReads[df_GoodReads['publisher'].isin(scholastic_books)]\n",
    "sns.barplot(x='publisher', y='average_rating', data= scholastic_df)"
   ]
  },
  {
   "cell_type": "code",
   "execution_count": 382,
   "metadata": {},
   "outputs": [
    {
     "data": {
      "text/plain": [
       "<Axes: xlabel='publisher', ylabel='average_rating'>"
      ]
     },
     "execution_count": 382,
     "metadata": {},
     "output_type": "execute_result"
    },
    {
     "data": {
      "image/png": "[encoded data removed]",
      "text/plain": [
       "<Figure size 640x480 with 1 Axes>"
      ]
     },
     "metadata": {},
     "output_type": "display_data"
    }
   ],
   "source": [
    "vintage_books = ['Vintage', 'Vintage Books', 'Vintage Classics', 'Vintage International', 'Vintage Books USA']\n",
    "vintage_df = df_GoodReads[df_GoodReads['publisher'].isin(vintage_books)]\n",
    "sns.barplot(x='publisher', y='average_rating', data= vintage_df)"
   ]
  },
  {
   "cell_type": "code",
   "execution_count": 383,
   "metadata": {},
   "outputs": [
    {
     "data": {
      "text/plain": [
       "<Axes: xlabel='publisher', ylabel='average_rating'>"
      ]
     },
     "execution_count": 383,
     "metadata": {},
     "output_type": "execute_result"
    },
    {
     "data": {
      "image/png": "[encoded data removed]",
      "text/plain": [
       "<Figure size 640x480 with 1 Axes>"
      ]
     },
     "metadata": {},
     "output_type": "display_data"
    }
   ],
   "source": [
    "harper_books = ['Harper', 'HarperTorch', 'HarperOne', 'HarperCollins', 'HarperCollins Publishers', 'Harper Perennial']\n",
    "harper_df = df_GoodReads[df_GoodReads['publisher'].isin(harper_books)]\n",
    "sns.barplot(x='publisher', y='average_rating', data= harper_df)"
   ]
  },
  {
   "cell_type": "code",
   "execution_count": 384,
   "metadata": {},
   "outputs": [
    {
     "data": {
      "text/plain": [
       "<Axes: xlabel='publisher', ylabel='average_rating'>"
      ]
     },
     "execution_count": 384,
     "metadata": {},
     "output_type": "execute_result"
    },
    {
     "data": {
      "image/png": "[encoded data removed]",
      "text/plain": [
       "<Figure size 640x480 with 1 Axes>"
      ]
     },
     "metadata": {},
     "output_type": "display_data"
    }
   ],
   "source": [
    "uni_books = ['University of Chicago Press', 'University of California Press', 'Harvard University Press', 'Oxford University Press', 'Cambridge University Press']\n",
    "uni_df = df_GoodReads[df_GoodReads['publisher'].isin(uni_books)]\n",
    "sns.barplot(x='publisher', y='average_rating', data= uni_df)"
   ]
  },
  {
   "cell_type": "code",
   "execution_count": 385,
   "metadata": {},
   "outputs": [
    {
     "data": {
      "text/plain": [
       "<Axes: xlabel='publisher', ylabel='average_rating'>"
      ]
     },
     "execution_count": 385,
     "metadata": {},
     "output_type": "execute_result"
    },
    {
     "data": {
      "image/png": "[encoded data removed]",
      "text/plain": [
       "<Figure size 640x480 with 1 Axes>"
      ]
     },
     "metadata": {},
     "output_type": "display_data"
    }
   ],
   "source": [
    "bantam_books = ['Bantam', 'Bantam Books', 'Bantam Classics']\n",
    "bantam_df = df_GoodReads[df_GoodReads['publisher'].isin(bantam_books)]\n",
    "sns.barplot(x='publisher', y='average_rating', data= bantam_df)"
   ]
  },
  {
   "cell_type": "code",
   "execution_count": 386,
   "metadata": {},
   "outputs": [
    {
     "data": {
      "text/plain": [
       "<Axes: xlabel='publisher', ylabel='average_rating'>"
      ]
     },
     "execution_count": 386,
     "metadata": {},
     "output_type": "execute_result"
    },
    {
     "data": {
      "image/png": "[encoded data removed]",
      "text/plain": [
       "<Figure size 640x480 with 1 Axes>"
      ]
     },
     "metadata": {},
     "output_type": "display_data"
    }
   ],
   "source": [
    "random_books = ['Random House', 'Random House Audio', 'Random House Audio Publishing Group', 'Random House Books for Young Readers', 'Random House Trade Paperbacks']\n",
    "random_df = df_GoodReads[df_GoodReads['publisher'].isin(random_books)]\n",
    "sns.barplot(x='publisher', y='average_rating', data= random_df)"
   ]
  },
  {
   "cell_type": "code",
   "execution_count": 387,
   "metadata": {},
   "outputs": [],
   "source": [
    "# All main publishing houses appear to have an average rating of between 3.8 and 4"
   ]
  },
  {
   "cell_type": "code",
   "execution_count": 388,
   "metadata": {},
   "outputs": [
    {
     "data": {
      "text/plain": [
       "2059"
      ]
     },
     "execution_count": 388,
     "metadata": {},
     "output_type": "execute_result"
    }
   ],
   "source": [
    "# We have seen the isbn metadata contains NA columns where we were unable to match the isbn - we will first observe this\n",
    "df_isbn_metadata['Publisher'].isna().sum()"
   ]
  },
  {
   "cell_type": "code",
   "execution_count": 31,
   "metadata": {},
   "outputs": [
    {
     "data": {
      "text/html": [
       "<div>\n",
       "<style scoped>\n",
       "    .dataframe tbody tr th:only-of-type {\n",
       "        vertical-align: middle;\n",
       "    }\n",
       "\n",
       "    .dataframe tbody tr th {\n",
       "        vertical-align: top;\n",
       "    }\n",
       "\n",
       "    .dataframe thead th {\n",
       "        text-align: right;\n",
       "    }\n",
       "</style>\n",
       "<table border=\"1\" class=\"dataframe\">\n",
       "  <thead>\n",
       "    <tr style=\"text-align: right;\">\n",
       "      <th></th>\n",
       "      <th>title</th>\n",
       "      <th>authors</th>\n",
       "      <th>average_rating</th>\n",
       "      <th>language_code</th>\n",
       "      <th>num_pages</th>\n",
       "      <th>ratings_count</th>\n",
       "      <th>text_reviews_count</th>\n",
       "      <th>publication_date</th>\n",
       "      <th>publisher</th>\n",
       "      <th>titles_grouped</th>\n",
       "      <th>title_frequency</th>\n",
       "      <th>main_author</th>\n",
       "      <th>author_frequency</th>\n",
       "      <th>main_author_frequency</th>\n",
       "    </tr>\n",
       "    <tr>\n",
       "      <th>bookID</th>\n",
       "      <th></th>\n",
       "      <th></th>\n",
       "      <th></th>\n",
       "      <th></th>\n",
       "      <th></th>\n",
       "      <th></th>\n",
       "      <th></th>\n",
       "      <th></th>\n",
       "      <th></th>\n",
       "      <th></th>\n",
       "      <th></th>\n",
       "      <th></th>\n",
       "      <th></th>\n",
       "      <th></th>\n",
       "    </tr>\n",
       "  </thead>\n",
       "  <tbody>\n",
       "    <tr>\n",
       "      <th>6549</th>\n",
       "      <td>said the shotgun to the head.</td>\n",
       "      <td>Saul Williams</td>\n",
       "      <td>4.22</td>\n",
       "      <td>eng</td>\n",
       "      <td>192</td>\n",
       "      <td>2762</td>\n",
       "      <td>214</td>\n",
       "      <td>9/1/2003</td>\n",
       "      <td>MTV Books</td>\n",
       "      <td>Unique</td>\n",
       "      <td>1</td>\n",
       "      <td>Saul Williams</td>\n",
       "      <td>1</td>\n",
       "      <td>1</td>\n",
       "    </tr>\n",
       "    <tr>\n",
       "      <th>14490</th>\n",
       "      <td>$30 Film School: How to Write  Direct  Produce...</td>\n",
       "      <td>Michael W. Dean</td>\n",
       "      <td>3.49</td>\n",
       "      <td>eng</td>\n",
       "      <td>528</td>\n",
       "      <td>30</td>\n",
       "      <td>4</td>\n",
       "      <td>5/13/2003</td>\n",
       "      <td>Course Technology</td>\n",
       "      <td>How Write</td>\n",
       "      <td>4</td>\n",
       "      <td>Michael W. Dean</td>\n",
       "      <td>1</td>\n",
       "      <td>1</td>\n",
       "    </tr>\n",
       "    <tr>\n",
       "      <th>5415</th>\n",
       "      <td>'Salem's Lot</td>\n",
       "      <td>Stephen King</td>\n",
       "      <td>4.02</td>\n",
       "      <td>eng</td>\n",
       "      <td>405</td>\n",
       "      <td>1039</td>\n",
       "      <td>130</td>\n",
       "      <td>10/17/1975</td>\n",
       "      <td>Doubleday</td>\n",
       "      <td>Salem Lot</td>\n",
       "      <td>5</td>\n",
       "      <td>Stephen King</td>\n",
       "      <td>66</td>\n",
       "      <td>83</td>\n",
       "    </tr>\n",
       "    <tr>\n",
       "      <th>5413</th>\n",
       "      <td>'Salem's Lot</td>\n",
       "      <td>Stephen King</td>\n",
       "      <td>4.25</td>\n",
       "      <td>eng</td>\n",
       "      <td>594</td>\n",
       "      <td>84123</td>\n",
       "      <td>571</td>\n",
       "      <td>11/1/2005</td>\n",
       "      <td>Doubleday Books</td>\n",
       "      <td>Salem Lot</td>\n",
       "      <td>5</td>\n",
       "      <td>Stephen King</td>\n",
       "      <td>66</td>\n",
       "      <td>83</td>\n",
       "    </tr>\n",
       "    <tr>\n",
       "      <th>5414</th>\n",
       "      <td>'Salem's Lot</td>\n",
       "      <td>Stephen King</td>\n",
       "      <td>4.02</td>\n",
       "      <td>eng</td>\n",
       "      <td>17</td>\n",
       "      <td>227</td>\n",
       "      <td>54</td>\n",
       "      <td>1/19/2004</td>\n",
       "      <td>Simon &amp; Schuster Audio</td>\n",
       "      <td>Salem Lot</td>\n",
       "      <td>5</td>\n",
       "      <td>Stephen King</td>\n",
       "      <td>66</td>\n",
       "      <td>83</td>\n",
       "    </tr>\n",
       "  </tbody>\n",
       "</table>\n",
       "</div>"
      ],
      "text/plain": [
       "                                                    title          authors  \\\n",
       "bookID                                                                       \n",
       "6549                        said the shotgun to the head.    Saul Williams   \n",
       "14490   $30 Film School: How to Write  Direct  Produce...  Michael W. Dean   \n",
       "5415                                         'Salem's Lot     Stephen King   \n",
       "5413                                         'Salem's Lot     Stephen King   \n",
       "5414                                         'Salem's Lot     Stephen King   \n",
       "\n",
       "        average_rating language_code  num_pages  ratings_count  \\\n",
       "bookID                                                           \n",
       "6549              4.22           eng        192           2762   \n",
       "14490             3.49           eng        528             30   \n",
       "5415              4.02           eng        405           1039   \n",
       "5413              4.25           eng        594          84123   \n",
       "5414              4.02           eng         17            227   \n",
       "\n",
       "        text_reviews_count publication_date               publisher  \\\n",
       "bookID                                                                \n",
       "6549                   214         9/1/2003               MTV Books   \n",
       "14490                    4        5/13/2003       Course Technology   \n",
       "5415                   130       10/17/1975               Doubleday   \n",
       "5413                   571        11/1/2005         Doubleday Books   \n",
       "5414                    54        1/19/2004  Simon & Schuster Audio   \n",
       "\n",
       "       titles_grouped  title_frequency      main_author  author_frequency  \\\n",
       "bookID                                                                      \n",
       "6549           Unique                1    Saul Williams                 1   \n",
       "14490       How Write                4  Michael W. Dean                 1   \n",
       "5415        Salem Lot                5     Stephen King                66   \n",
       "5413        Salem Lot                5     Stephen King                66   \n",
       "5414        Salem Lot                5     Stephen King                66   \n",
       "\n",
       "        main_author_frequency  \n",
       "bookID                         \n",
       "6549                        1  \n",
       "14490                       1  \n",
       "5415                       83  \n",
       "5413                       83  \n",
       "5414                       83  "
      ]
     },
     "execution_count": 31,
     "metadata": {},
     "output_type": "execute_result"
    }
   ],
   "source": [
    "# We will use the isbn metadata to find official publishing house linked with each isbn\n",
    "# If no publisher information is found in the isbn metadata we will keep the publisher from GoodReads\n",
    "\n",
    "df_GoodReads['publisher'] = df_isbn_metadata['Publisher'].where(df_isbn_metadata['Publisher'].notna(), df_GoodReads['publisher'])\n",
    "df_GoodReads.head()"
   ]
  },
  {
   "cell_type": "code",
   "execution_count": 32,
   "metadata": {},
   "outputs": [
    {
     "data": {
      "image/png": "[encoded data removed]",
      "text/plain": [
       "<Figure size 640x480 with 1 Axes>"
      ]
     },
     "metadata": {},
     "output_type": "display_data"
    }
   ],
   "source": [
    "# Observing average rating of most common publishers\n",
    "\n",
    "counts_pub = df_GoodReads['publisher'].value_counts()\n",
    "to_keep_pub = counts_pub[counts_pub > 120].index\n",
    "df_pub_count_filter = df_GoodReads[df_GoodReads['publisher'].isin(to_keep_pub)]\n",
    "sns.barplot(x='publisher', y='average_rating', data= df_pub_count_filter)\n",
    "\n",
    "frequency_encoding = df_GoodReads['publisher'].value_counts().to_dict()\n",
    "df_GoodReads['publisher_frequency'] = df_GoodReads['publisher'].map(frequency_encoding)"
   ]
  },
  {
   "cell_type": "code",
   "execution_count": 34,
   "metadata": {},
   "outputs": [
    {
     "data": {
      "text/plain": [
       "<Axes: xlabel='average_rating', ylabel='publisher'>"
      ]
     },
     "execution_count": 34,
     "metadata": {},
     "output_type": "execute_result"
    },
    {
     "data": {
      "image/png": "[encoded data removed]",
      "text/plain": [
       "<Figure size 640x480 with 1 Axes>"
      ]
     },
     "metadata": {},
     "output_type": "display_data"
    }
   ],
   "source": [
    "# Observing how the size of a publishing house affects rating\n",
    "\n",
    "sns.boxplot(y='publisher', x='average_rating', data= df_pub_count_filter)"
   ]
  },
  {
   "cell_type": "code",
   "execution_count": 392,
   "metadata": {},
   "outputs": [
    {
     "name": "stdout",
     "output_type": "stream",
     "text": [
      "<class 'pandas.core.frame.DataFrame'>\n",
      "Index: 10720 entries, 6549 to 15294\n",
      "Data columns (total 14 columns):\n",
      " #   Column                 Non-Null Count  Dtype  \n",
      "---  ------                 --------------  -----  \n",
      " 0   title                  10720 non-null  object \n",
      " 1   authors                10720 non-null  object \n",
      " 2   average_rating         10720 non-null  float64\n",
      " 3   num_pages              10720 non-null  int64  \n",
      " 4   ratings_count          10720 non-null  int64  \n",
      " 5   text_reviews_count     10720 non-null  int64  \n",
      " 6   publication_date       10720 non-null  object \n",
      " 7   publisher              10720 non-null  object \n",
      " 8   titles_grouped         10720 non-null  object \n",
      " 9   title_frequency        10720 non-null  int64  \n",
      " 10  main_author            10720 non-null  object \n",
      " 11  author_frequency       10720 non-null  int64  \n",
      " 12  main_author_frequency  10720 non-null  int64  \n",
      " 13  publisher_frequency    10720 non-null  int64  \n",
      "dtypes: float64(1), int64(7), object(6)\n",
      "memory usage: 1.5+ MB\n"
     ]
    }
   ],
   "source": [
    "# Publication Date\n",
    "df_GoodReads.info()"
   ]
  },
  {
   "cell_type": "code",
   "execution_count": 35,
   "metadata": {},
   "outputs": [],
   "source": [
    "# Extracting publication year and month into seperate columns to study individual importance\n",
    "df_GoodReads['publication_year'] = df_GoodReads['publication_date'].str.split(\"/\").str[2].astype(int)\n",
    "df_GoodReads['publication_month'] = df_GoodReads['publication_date'].str.split(\"/\").str[0].astype(int)\n",
    "# Dropping full publication date as we have extracted the information needed\n",
    "df_GoodReads = df_GoodReads.drop('publication_date', axis=1)"
   ]
  },
  {
   "cell_type": "code",
   "execution_count": 394,
   "metadata": {},
   "outputs": [
    {
     "data": {
      "text/html": [
       "<div>\n",
       "<style scoped>\n",
       "    .dataframe tbody tr th:only-of-type {\n",
       "        vertical-align: middle;\n",
       "    }\n",
       "\n",
       "    .dataframe tbody tr th {\n",
       "        vertical-align: top;\n",
       "    }\n",
       "\n",
       "    .dataframe thead th {\n",
       "        text-align: right;\n",
       "    }\n",
       "</style>\n",
       "<table border=\"1\" class=\"dataframe\">\n",
       "  <thead>\n",
       "    <tr style=\"text-align: right;\">\n",
       "      <th></th>\n",
       "      <th>title</th>\n",
       "      <th>authors</th>\n",
       "      <th>average_rating</th>\n",
       "      <th>num_pages</th>\n",
       "      <th>ratings_count</th>\n",
       "      <th>text_reviews_count</th>\n",
       "      <th>publisher</th>\n",
       "      <th>titles_grouped</th>\n",
       "      <th>title_frequency</th>\n",
       "      <th>main_author</th>\n",
       "      <th>author_frequency</th>\n",
       "      <th>main_author_frequency</th>\n",
       "      <th>publisher_frequency</th>\n",
       "      <th>publication_year</th>\n",
       "      <th>publication_month</th>\n",
       "    </tr>\n",
       "    <tr>\n",
       "      <th>bookID</th>\n",
       "      <th></th>\n",
       "      <th></th>\n",
       "      <th></th>\n",
       "      <th></th>\n",
       "      <th></th>\n",
       "      <th></th>\n",
       "      <th></th>\n",
       "      <th></th>\n",
       "      <th></th>\n",
       "      <th></th>\n",
       "      <th></th>\n",
       "      <th></th>\n",
       "      <th></th>\n",
       "      <th></th>\n",
       "      <th></th>\n",
       "    </tr>\n",
       "  </thead>\n",
       "  <tbody>\n",
       "    <tr>\n",
       "      <th>6549</th>\n",
       "      <td>said the shotgun to the head.</td>\n",
       "      <td>Saul Williams</td>\n",
       "      <td>4.22</td>\n",
       "      <td>192</td>\n",
       "      <td>2762</td>\n",
       "      <td>214</td>\n",
       "      <td>MTV Books</td>\n",
       "      <td>Unique</td>\n",
       "      <td>1</td>\n",
       "      <td>Saul Williams</td>\n",
       "      <td>1</td>\n",
       "      <td>1</td>\n",
       "      <td>2</td>\n",
       "      <td>2003</td>\n",
       "      <td>9</td>\n",
       "    </tr>\n",
       "    <tr>\n",
       "      <th>14490</th>\n",
       "      <td>$30 Film School: How to Write  Direct  Produce...</td>\n",
       "      <td>Michael W. Dean</td>\n",
       "      <td>3.49</td>\n",
       "      <td>528</td>\n",
       "      <td>30</td>\n",
       "      <td>4</td>\n",
       "      <td>Course Technology</td>\n",
       "      <td>How Write</td>\n",
       "      <td>4</td>\n",
       "      <td>Michael W. Dean</td>\n",
       "      <td>1</td>\n",
       "      <td>1</td>\n",
       "      <td>3</td>\n",
       "      <td>2003</td>\n",
       "      <td>5</td>\n",
       "    </tr>\n",
       "    <tr>\n",
       "      <th>5415</th>\n",
       "      <td>'Salem's Lot</td>\n",
       "      <td>Stephen King</td>\n",
       "      <td>4.02</td>\n",
       "      <td>405</td>\n",
       "      <td>1039</td>\n",
       "      <td>130</td>\n",
       "      <td>Doubleday</td>\n",
       "      <td>Salem Lot</td>\n",
       "      <td>5</td>\n",
       "      <td>Stephen King</td>\n",
       "      <td>66</td>\n",
       "      <td>83</td>\n",
       "      <td>6</td>\n",
       "      <td>1975</td>\n",
       "      <td>10</td>\n",
       "    </tr>\n",
       "    <tr>\n",
       "      <th>5413</th>\n",
       "      <td>'Salem's Lot</td>\n",
       "      <td>Stephen King</td>\n",
       "      <td>4.25</td>\n",
       "      <td>594</td>\n",
       "      <td>84123</td>\n",
       "      <td>571</td>\n",
       "      <td>Doubleday Books</td>\n",
       "      <td>Salem Lot</td>\n",
       "      <td>5</td>\n",
       "      <td>Stephen King</td>\n",
       "      <td>66</td>\n",
       "      <td>83</td>\n",
       "      <td>13</td>\n",
       "      <td>2005</td>\n",
       "      <td>11</td>\n",
       "    </tr>\n",
       "    <tr>\n",
       "      <th>5414</th>\n",
       "      <td>'Salem's Lot</td>\n",
       "      <td>Stephen King</td>\n",
       "      <td>4.02</td>\n",
       "      <td>17</td>\n",
       "      <td>227</td>\n",
       "      <td>54</td>\n",
       "      <td>Simon &amp; Schuster Audio</td>\n",
       "      <td>Salem Lot</td>\n",
       "      <td>5</td>\n",
       "      <td>Stephen King</td>\n",
       "      <td>66</td>\n",
       "      <td>83</td>\n",
       "      <td>8</td>\n",
       "      <td>2004</td>\n",
       "      <td>1</td>\n",
       "    </tr>\n",
       "  </tbody>\n",
       "</table>\n",
       "</div>"
      ],
      "text/plain": [
       "                                                    title          authors  \\\n",
       "bookID                                                                       \n",
       "6549                        said the shotgun to the head.    Saul Williams   \n",
       "14490   $30 Film School: How to Write  Direct  Produce...  Michael W. Dean   \n",
       "5415                                         'Salem's Lot     Stephen King   \n",
       "5413                                         'Salem's Lot     Stephen King   \n",
       "5414                                         'Salem's Lot     Stephen King   \n",
       "\n",
       "        average_rating  num_pages  ratings_count  text_reviews_count  \\\n",
       "bookID                                                                 \n",
       "6549              4.22        192           2762                 214   \n",
       "14490             3.49        528             30                   4   \n",
       "5415              4.02        405           1039                 130   \n",
       "5413              4.25        594          84123                 571   \n",
       "5414              4.02         17            227                  54   \n",
       "\n",
       "                     publisher titles_grouped  title_frequency  \\\n",
       "bookID                                                           \n",
       "6549                 MTV Books         Unique                1   \n",
       "14490        Course Technology      How Write                4   \n",
       "5415                 Doubleday      Salem Lot                5   \n",
       "5413           Doubleday Books      Salem Lot                5   \n",
       "5414    Simon & Schuster Audio      Salem Lot                5   \n",
       "\n",
       "            main_author  author_frequency  main_author_frequency  \\\n",
       "bookID                                                             \n",
       "6549      Saul Williams                 1                      1   \n",
       "14490   Michael W. Dean                 1                      1   \n",
       "5415       Stephen King                66                     83   \n",
       "5413       Stephen King                66                     83   \n",
       "5414       Stephen King                66                     83   \n",
       "\n",
       "        publisher_frequency  publication_year  publication_month  \n",
       "bookID                                                            \n",
       "6549                      2              2003                  9  \n",
       "14490                     3              2003                  5  \n",
       "5415                      6              1975                 10  \n",
       "5413                     13              2005                 11  \n",
       "5414                      8              2004                  1  "
      ]
     },
     "execution_count": 394,
     "metadata": {},
     "output_type": "execute_result"
    }
   ],
   "source": [
    "df_GoodReads.head()"
   ]
  },
  {
   "cell_type": "code",
   "execution_count": 395,
   "metadata": {},
   "outputs": [
    {
     "data": {
      "text/plain": [
       "<Axes: xlabel='publication_year', ylabel='average_rating'>"
      ]
     },
     "execution_count": 395,
     "metadata": {},
     "output_type": "execute_result"
    },
    {
     "data": {
      "image/png": "[encoded data removed]",
      "text/plain": [
       "<Figure size 640x480 with 1 Axes>"
      ]
     },
     "metadata": {},
     "output_type": "display_data"
    }
   ],
   "source": [
    "# Plot to show importance of publication year on average rating\n",
    "sns.scatterplot(x='publication_year', y='average_rating', data=df_GoodReads)"
   ]
  },
  {
   "cell_type": "code",
   "execution_count": 39,
   "metadata": {},
   "outputs": [
    {
     "data": {
      "text/plain": [
       "<Axes: xlabel='pub_century', ylabel='average_rating'>"
      ]
     },
     "execution_count": 39,
     "metadata": {},
     "output_type": "execute_result"
    },
    {
     "data": {
      "image/png": "[encoded data removed]",
      "text/plain": [
       "<Figure size 640x480 with 1 Axes>"
      ]
     },
     "metadata": {},
     "output_type": "display_data"
    }
   ],
   "source": [
    "bins = [1900, 1950, 1960, 1970, 1980, 1990, 2000, 2010, 2020]\n",
    "labels = ['Pre 50s', '50s', '60s', '70s', '80s', '90s', '00s', '10s']\n",
    "df_GoodReads['pub_century'] = pd.cut(df_GoodReads['publication_year'], bins=bins, labels=labels)\n",
    "sns.boxplot(x='pub_century', y='average_rating', data= df_GoodReads)"
   ]
  },
  {
   "cell_type": "code",
   "execution_count": 396,
   "metadata": {},
   "outputs": [
    {
     "data": {
      "text/plain": [
       "<Axes: xlabel='publication_month', ylabel='average_rating'>"
      ]
     },
     "execution_count": 396,
     "metadata": {},
     "output_type": "execute_result"
    },
    {
     "data": {
      "image/png": "[encoded data removed]",
      "text/plain": [
       "<Figure size 640x480 with 1 Axes>"
      ]
     },
     "metadata": {},
     "output_type": "display_data"
    }
   ],
   "source": [
    "# Plot to show importance of publication month on average rating\n",
    "sns.barplot(x='publication_month', y='average_rating', data=df_GoodReads)"
   ]
  },
  {
   "cell_type": "code",
   "execution_count": 37,
   "metadata": {},
   "outputs": [
    {
     "data": {
      "text/plain": [
       "<Axes: xlabel='publication_month', ylabel='average_rating'>"
      ]
     },
     "execution_count": 37,
     "metadata": {},
     "output_type": "execute_result"
    },
    {
     "data": {
      "image/png": "[encoded data removed]",
      "text/plain": [
       "<Figure size 640x480 with 1 Axes>"
      ]
     },
     "metadata": {},
     "output_type": "display_data"
    }
   ],
   "source": [
    "sns.boxplot(x='publication_month', y='average_rating', data= df_GoodReads)"
   ]
  },
  {
   "cell_type": "code",
   "execution_count": 397,
   "metadata": {},
   "outputs": [],
   "source": [
    "# Little to no variation in rating across the months\n",
    "df_GoodReads = df_GoodReads.drop('publication_month', axis=1)"
   ]
  },
  {
   "cell_type": "code",
   "execution_count": 398,
   "metadata": {},
   "outputs": [
    {
     "data": {
      "text/plain": [
       "<Axes: xlabel='average_rating', ylabel='num_pages'>"
      ]
     },
     "execution_count": 398,
     "metadata": {},
     "output_type": "execute_result"
    },
    {
     "data": {
      "image/png": "[encoded data removed]",
      "text/plain": [
       "<Figure size 640x480 with 1 Axes>"
      ]
     },
     "metadata": {},
     "output_type": "display_data"
    }
   ],
   "source": [
    "# Exploring the relationship between number of pages and average rating\n",
    "sns.scatterplot(x='average_rating', y='num_pages', data=df_GoodReads)"
   ]
  },
  {
   "cell_type": "code",
   "execution_count": 399,
   "metadata": {},
   "outputs": [],
   "source": [
    "# Eliminating outliers in num_pages category\n",
    "# Over 2000 pages likely to be boxsets\n",
    "# Under 10 pages likely to be audiobooks\n",
    "df_GoodReads = df_GoodReads[df_GoodReads['num_pages']<= 2000]\n",
    "df_GoodReads = df_GoodReads[df_GoodReads['num_pages'] >= 10]"
   ]
  },
  {
   "cell_type": "code",
   "execution_count": 400,
   "metadata": {},
   "outputs": [
    {
     "data": {
      "text/plain": [
       "<Axes: xlabel='average_rating', ylabel='num_pages'>"
      ]
     },
     "execution_count": 400,
     "metadata": {},
     "output_type": "execute_result"
    },
    {
     "data": {
      "image/png": "[encoded data removed]",
      "text/plain": [
       "<Figure size 640x480 with 1 Axes>"
      ]
     },
     "metadata": {},
     "output_type": "display_data"
    }
   ],
   "source": [
    "sns.scatterplot(x='average_rating', y='num_pages', data=df_GoodReads)"
   ]
  },
  {
   "cell_type": "code",
   "execution_count": 401,
   "metadata": {},
   "outputs": [
    {
     "data": {
      "text/plain": [
       "<Axes: xlabel='average_rating', ylabel='ratings_count'>"
      ]
     },
     "execution_count": 401,
     "metadata": {},
     "output_type": "execute_result"
    },
    {
     "data": {
      "image/png": "[encoded data removed]",
      "text/plain": [
       "<Figure size 640x480 with 1 Axes>"
      ]
     },
     "metadata": {},
     "output_type": "display_data"
    }
   ],
   "source": [
    "# Exploring the relationship between ratings count and average rating\n",
    "sns.scatterplot(x='average_rating', y='ratings_count', data=df_GoodReads)"
   ]
  },
  {
   "cell_type": "code",
   "execution_count": 402,
   "metadata": {},
   "outputs": [],
   "source": [
    "# We can see we have some very low ratings counts wrt to average which could be subject to human bias\n",
    "# We will eliminate these potential outliers by eliminating the bottom 1%\n",
    "lower_percentile = df_GoodReads['ratings_count'].quantile(0.01)\n",
    "df_GoodReads = df_GoodReads[df_GoodReads['ratings_count'] > lower_percentile]"
   ]
  },
  {
   "cell_type": "code",
   "execution_count": 403,
   "metadata": {},
   "outputs": [
    {
     "data": {
      "text/plain": [
       "<Axes: xlabel='average_rating', ylabel='ratings_count'>"
      ]
     },
     "execution_count": 403,
     "metadata": {},
     "output_type": "execute_result"
    },
    {
     "data": {
      "image/png": "[encoded data removed]",
      "text/plain": [
       "<Figure size 640x480 with 1 Axes>"
      ]
     },
     "metadata": {},
     "output_type": "display_data"
    }
   ],
   "source": [
    "sns.scatterplot(x='average_rating', y='ratings_count', data=df_GoodReads)"
   ]
  },
  {
   "cell_type": "code",
   "execution_count": 404,
   "metadata": {},
   "outputs": [
    {
     "data": {
      "text/plain": [
       "<Axes: xlabel='average_rating', ylabel='text_reviews_count'>"
      ]
     },
     "execution_count": 404,
     "metadata": {},
     "output_type": "execute_result"
    },
    {
     "data": {
      "image/png": "[encoded data removed]",
      "text/plain": [
       "<Figure size 640x480 with 1 Axes>"
      ]
     },
     "metadata": {},
     "output_type": "display_data"
    }
   ],
   "source": [
    "# Exploring the relationship between text reviews count and average rating\n",
    "sns.scatterplot(x='average_rating', y='text_reviews_count', data=df_GoodReads)"
   ]
  },
  {
   "cell_type": "code",
   "execution_count": 405,
   "metadata": {},
   "outputs": [
    {
     "data": {
      "text/plain": [
       "<Axes: xlabel='text_review_conversion', ylabel='average_rating'>"
      ]
     },
     "execution_count": 405,
     "metadata": {},
     "output_type": "execute_result"
    },
    {
     "data": {
      "image/png": "[encoded data removed]",
      "text/plain": [
       "<Figure size 640x480 with 1 Axes>"
      ]
     },
     "metadata": {},
     "output_type": "display_data"
    }
   ],
   "source": [
    "# Seeing if text review conversion is correlated to average rating (percentage text reviews left wrt ratings left)\n",
    "df_GoodReads['text_review_conversion'] = np.where((df_GoodReads['text_reviews_count'] == 0) | (df_GoodReads['ratings_count'] == 0), 0, df_GoodReads['text_reviews_count'] / df_GoodReads['ratings_count']).round(1)\n",
    "sns.barplot(x='text_review_conversion', y='average_rating', data=df_GoodReads)"
   ]
  },
  {
   "cell_type": "code",
   "execution_count": 406,
   "metadata": {},
   "outputs": [
    {
     "data": {
      "text/html": [
       "<div>\n",
       "<style scoped>\n",
       "    .dataframe tbody tr th:only-of-type {\n",
       "        vertical-align: middle;\n",
       "    }\n",
       "\n",
       "    .dataframe tbody tr th {\n",
       "        vertical-align: top;\n",
       "    }\n",
       "\n",
       "    .dataframe thead th {\n",
       "        text-align: right;\n",
       "    }\n",
       "</style>\n",
       "<table border=\"1\" class=\"dataframe\">\n",
       "  <thead>\n",
       "    <tr style=\"text-align: right;\">\n",
       "      <th></th>\n",
       "      <th>title</th>\n",
       "      <th>authors</th>\n",
       "      <th>average_rating</th>\n",
       "      <th>num_pages</th>\n",
       "      <th>ratings_count</th>\n",
       "      <th>text_reviews_count</th>\n",
       "      <th>publisher</th>\n",
       "      <th>titles_grouped</th>\n",
       "      <th>title_frequency</th>\n",
       "      <th>main_author</th>\n",
       "      <th>author_frequency</th>\n",
       "      <th>main_author_frequency</th>\n",
       "      <th>publisher_frequency</th>\n",
       "      <th>publication_year</th>\n",
       "      <th>text_review_conversion</th>\n",
       "    </tr>\n",
       "    <tr>\n",
       "      <th>bookID</th>\n",
       "      <th></th>\n",
       "      <th></th>\n",
       "      <th></th>\n",
       "      <th></th>\n",
       "      <th></th>\n",
       "      <th></th>\n",
       "      <th></th>\n",
       "      <th></th>\n",
       "      <th></th>\n",
       "      <th></th>\n",
       "      <th></th>\n",
       "      <th></th>\n",
       "      <th></th>\n",
       "      <th></th>\n",
       "      <th></th>\n",
       "    </tr>\n",
       "  </thead>\n",
       "  <tbody>\n",
       "    <tr>\n",
       "      <th>6549</th>\n",
       "      <td>said the shotgun to the head.</td>\n",
       "      <td>Saul Williams</td>\n",
       "      <td>4.22</td>\n",
       "      <td>192</td>\n",
       "      <td>2762</td>\n",
       "      <td>214</td>\n",
       "      <td>MTV Books</td>\n",
       "      <td>Unique</td>\n",
       "      <td>1</td>\n",
       "      <td>Saul Williams</td>\n",
       "      <td>1</td>\n",
       "      <td>1</td>\n",
       "      <td>2</td>\n",
       "      <td>2003</td>\n",
       "      <td>0.1</td>\n",
       "    </tr>\n",
       "    <tr>\n",
       "      <th>14490</th>\n",
       "      <td>$30 Film School: How to Write  Direct  Produce...</td>\n",
       "      <td>Michael W. Dean</td>\n",
       "      <td>3.49</td>\n",
       "      <td>528</td>\n",
       "      <td>30</td>\n",
       "      <td>4</td>\n",
       "      <td>Course Technology</td>\n",
       "      <td>How Write</td>\n",
       "      <td>4</td>\n",
       "      <td>Michael W. Dean</td>\n",
       "      <td>1</td>\n",
       "      <td>1</td>\n",
       "      <td>3</td>\n",
       "      <td>2003</td>\n",
       "      <td>0.1</td>\n",
       "    </tr>\n",
       "    <tr>\n",
       "      <th>5415</th>\n",
       "      <td>'Salem's Lot</td>\n",
       "      <td>Stephen King</td>\n",
       "      <td>4.02</td>\n",
       "      <td>405</td>\n",
       "      <td>1039</td>\n",
       "      <td>130</td>\n",
       "      <td>Doubleday</td>\n",
       "      <td>Salem Lot</td>\n",
       "      <td>5</td>\n",
       "      <td>Stephen King</td>\n",
       "      <td>66</td>\n",
       "      <td>83</td>\n",
       "      <td>6</td>\n",
       "      <td>1975</td>\n",
       "      <td>0.1</td>\n",
       "    </tr>\n",
       "    <tr>\n",
       "      <th>5413</th>\n",
       "      <td>'Salem's Lot</td>\n",
       "      <td>Stephen King</td>\n",
       "      <td>4.25</td>\n",
       "      <td>594</td>\n",
       "      <td>84123</td>\n",
       "      <td>571</td>\n",
       "      <td>Doubleday Books</td>\n",
       "      <td>Salem Lot</td>\n",
       "      <td>5</td>\n",
       "      <td>Stephen King</td>\n",
       "      <td>66</td>\n",
       "      <td>83</td>\n",
       "      <td>13</td>\n",
       "      <td>2005</td>\n",
       "      <td>0.0</td>\n",
       "    </tr>\n",
       "    <tr>\n",
       "      <th>5414</th>\n",
       "      <td>'Salem's Lot</td>\n",
       "      <td>Stephen King</td>\n",
       "      <td>4.02</td>\n",
       "      <td>17</td>\n",
       "      <td>227</td>\n",
       "      <td>54</td>\n",
       "      <td>Simon &amp; Schuster Audio</td>\n",
       "      <td>Salem Lot</td>\n",
       "      <td>5</td>\n",
       "      <td>Stephen King</td>\n",
       "      <td>66</td>\n",
       "      <td>83</td>\n",
       "      <td>8</td>\n",
       "      <td>2004</td>\n",
       "      <td>0.2</td>\n",
       "    </tr>\n",
       "  </tbody>\n",
       "</table>\n",
       "</div>"
      ],
      "text/plain": [
       "                                                    title          authors  \\\n",
       "bookID                                                                       \n",
       "6549                        said the shotgun to the head.    Saul Williams   \n",
       "14490   $30 Film School: How to Write  Direct  Produce...  Michael W. Dean   \n",
       "5415                                         'Salem's Lot     Stephen King   \n",
       "5413                                         'Salem's Lot     Stephen King   \n",
       "5414                                         'Salem's Lot     Stephen King   \n",
       "\n",
       "        average_rating  num_pages  ratings_count  text_reviews_count  \\\n",
       "bookID                                                                 \n",
       "6549              4.22        192           2762                 214   \n",
       "14490             3.49        528             30                   4   \n",
       "5415              4.02        405           1039                 130   \n",
       "5413              4.25        594          84123                 571   \n",
       "5414              4.02         17            227                  54   \n",
       "\n",
       "                     publisher titles_grouped  title_frequency  \\\n",
       "bookID                                                           \n",
       "6549                 MTV Books         Unique                1   \n",
       "14490        Course Technology      How Write                4   \n",
       "5415                 Doubleday      Salem Lot                5   \n",
       "5413           Doubleday Books      Salem Lot                5   \n",
       "5414    Simon & Schuster Audio      Salem Lot                5   \n",
       "\n",
       "            main_author  author_frequency  main_author_frequency  \\\n",
       "bookID                                                             \n",
       "6549      Saul Williams                 1                      1   \n",
       "14490   Michael W. Dean                 1                      1   \n",
       "5415       Stephen King                66                     83   \n",
       "5413       Stephen King                66                     83   \n",
       "5414       Stephen King                66                     83   \n",
       "\n",
       "        publisher_frequency  publication_year  text_review_conversion  \n",
       "bookID                                                                 \n",
       "6549                      2              2003                     0.1  \n",
       "14490                     3              2003                     0.1  \n",
       "5415                      6              1975                     0.1  \n",
       "5413                     13              2005                     0.0  \n",
       "5414                      8              2004                     0.2  "
      ]
     },
     "execution_count": 406,
     "metadata": {},
     "output_type": "execute_result"
    }
   ],
   "source": [
    "df_GoodReads.head()"
   ]
  },
  {
   "cell_type": "code",
   "execution_count": 407,
   "metadata": {},
   "outputs": [],
   "source": [
    "# Convert categorical data to numeric\n",
    "df_numeric = df_GoodReads\n",
    "label_encoder = LabelEncoder()\n",
    "df_numeric['title'] = label_encoder.fit_transform(df_numeric['title'])\n",
    "df_numeric['main_author'] = label_encoder.fit_transform(df_numeric['main_author'])\n",
    "df_numeric['titles_grouped'] = label_encoder.fit_transform(df_numeric['titles_grouped'])\n",
    "df_numeric['authors'] = label_encoder.fit_transform(df_numeric['authors'])\n",
    "df_numeric['publisher'] = label_encoder.fit_transform(df_numeric['publisher'])"
   ]
  },
  {
   "cell_type": "code",
   "execution_count": 408,
   "metadata": {},
   "outputs": [
    {
     "data": {
      "text/html": [
       "<div>\n",
       "<style scoped>\n",
       "    .dataframe tbody tr th:only-of-type {\n",
       "        vertical-align: middle;\n",
       "    }\n",
       "\n",
       "    .dataframe tbody tr th {\n",
       "        vertical-align: top;\n",
       "    }\n",
       "\n",
       "    .dataframe thead th {\n",
       "        text-align: right;\n",
       "    }\n",
       "</style>\n",
       "<table border=\"1\" class=\"dataframe\">\n",
       "  <thead>\n",
       "    <tr style=\"text-align: right;\">\n",
       "      <th></th>\n",
       "      <th>title</th>\n",
       "      <th>authors</th>\n",
       "      <th>average_rating</th>\n",
       "      <th>num_pages</th>\n",
       "      <th>ratings_count</th>\n",
       "      <th>text_reviews_count</th>\n",
       "      <th>publisher</th>\n",
       "      <th>titles_grouped</th>\n",
       "      <th>title_frequency</th>\n",
       "      <th>main_author</th>\n",
       "      <th>author_frequency</th>\n",
       "      <th>main_author_frequency</th>\n",
       "      <th>publisher_frequency</th>\n",
       "      <th>publication_year</th>\n",
       "      <th>text_review_conversion</th>\n",
       "    </tr>\n",
       "    <tr>\n",
       "      <th>bookID</th>\n",
       "      <th></th>\n",
       "      <th></th>\n",
       "      <th></th>\n",
       "      <th></th>\n",
       "      <th></th>\n",
       "      <th></th>\n",
       "      <th></th>\n",
       "      <th></th>\n",
       "      <th></th>\n",
       "      <th></th>\n",
       "      <th></th>\n",
       "      <th></th>\n",
       "      <th></th>\n",
       "      <th></th>\n",
       "      <th></th>\n",
       "    </tr>\n",
       "  </thead>\n",
       "  <tbody>\n",
       "    <tr>\n",
       "      <th>6549</th>\n",
       "      <td>0</td>\n",
       "      <td>3513</td>\n",
       "      <td>4.22</td>\n",
       "      <td>192</td>\n",
       "      <td>2762</td>\n",
       "      <td>214</td>\n",
       "      <td>1065</td>\n",
       "      <td>1159</td>\n",
       "      <td>1</td>\n",
       "      <td>3263</td>\n",
       "      <td>1</td>\n",
       "      <td>1</td>\n",
       "      <td>2</td>\n",
       "      <td>2003</td>\n",
       "      <td>0.1</td>\n",
       "    </tr>\n",
       "    <tr>\n",
       "      <th>14490</th>\n",
       "      <td>1</td>\n",
       "      <td>2723</td>\n",
       "      <td>3.49</td>\n",
       "      <td>528</td>\n",
       "      <td>30</td>\n",
       "      <td>4</td>\n",
       "      <td>401</td>\n",
       "      <td>528</td>\n",
       "      <td>4</td>\n",
       "      <td>2519</td>\n",
       "      <td>1</td>\n",
       "      <td>1</td>\n",
       "      <td>3</td>\n",
       "      <td>2003</td>\n",
       "      <td>0.1</td>\n",
       "    </tr>\n",
       "    <tr>\n",
       "      <th>5415</th>\n",
       "      <td>2</td>\n",
       "      <td>3645</td>\n",
       "      <td>4.02</td>\n",
       "      <td>405</td>\n",
       "      <td>1039</td>\n",
       "      <td>130</td>\n",
       "      <td>507</td>\n",
       "      <td>967</td>\n",
       "      <td>5</td>\n",
       "      <td>3382</td>\n",
       "      <td>66</td>\n",
       "      <td>83</td>\n",
       "      <td>6</td>\n",
       "      <td>1975</td>\n",
       "      <td>0.1</td>\n",
       "    </tr>\n",
       "    <tr>\n",
       "      <th>5413</th>\n",
       "      <td>2</td>\n",
       "      <td>3645</td>\n",
       "      <td>4.25</td>\n",
       "      <td>594</td>\n",
       "      <td>84123</td>\n",
       "      <td>571</td>\n",
       "      <td>508</td>\n",
       "      <td>967</td>\n",
       "      <td>5</td>\n",
       "      <td>3382</td>\n",
       "      <td>66</td>\n",
       "      <td>83</td>\n",
       "      <td>13</td>\n",
       "      <td>2005</td>\n",
       "      <td>0.0</td>\n",
       "    </tr>\n",
       "    <tr>\n",
       "      <th>5414</th>\n",
       "      <td>2</td>\n",
       "      <td>3645</td>\n",
       "      <td>4.02</td>\n",
       "      <td>17</td>\n",
       "      <td>227</td>\n",
       "      <td>54</td>\n",
       "      <td>1639</td>\n",
       "      <td>967</td>\n",
       "      <td>5</td>\n",
       "      <td>3382</td>\n",
       "      <td>66</td>\n",
       "      <td>83</td>\n",
       "      <td>8</td>\n",
       "      <td>2004</td>\n",
       "      <td>0.2</td>\n",
       "    </tr>\n",
       "  </tbody>\n",
       "</table>\n",
       "</div>"
      ],
      "text/plain": [
       "        title  authors  average_rating  num_pages  ratings_count  \\\n",
       "bookID                                                             \n",
       "6549        0     3513            4.22        192           2762   \n",
       "14490       1     2723            3.49        528             30   \n",
       "5415        2     3645            4.02        405           1039   \n",
       "5413        2     3645            4.25        594          84123   \n",
       "5414        2     3645            4.02         17            227   \n",
       "\n",
       "        text_reviews_count  publisher  titles_grouped  title_frequency  \\\n",
       "bookID                                                                   \n",
       "6549                   214       1065            1159                1   \n",
       "14490                    4        401             528                4   \n",
       "5415                   130        507             967                5   \n",
       "5413                   571        508             967                5   \n",
       "5414                    54       1639             967                5   \n",
       "\n",
       "        main_author  author_frequency  main_author_frequency  \\\n",
       "bookID                                                         \n",
       "6549           3263                 1                      1   \n",
       "14490          2519                 1                      1   \n",
       "5415           3382                66                     83   \n",
       "5413           3382                66                     83   \n",
       "5414           3382                66                     83   \n",
       "\n",
       "        publisher_frequency  publication_year  text_review_conversion  \n",
       "bookID                                                                 \n",
       "6549                      2              2003                     0.1  \n",
       "14490                     3              2003                     0.1  \n",
       "5415                      6              1975                     0.1  \n",
       "5413                     13              2005                     0.0  \n",
       "5414                      8              2004                     0.2  "
      ]
     },
     "execution_count": 408,
     "metadata": {},
     "output_type": "execute_result"
    }
   ],
   "source": [
    "df_numeric.head()"
   ]
  },
  {
   "cell_type": "code",
   "execution_count": 409,
   "metadata": {},
   "outputs": [
    {
     "name": "stdout",
     "output_type": "stream",
     "text": [
      "<class 'pandas.core.frame.DataFrame'>\n",
      "Index: 10399 entries, 6549 to 15294\n",
      "Data columns (total 15 columns):\n",
      " #   Column                  Non-Null Count  Dtype  \n",
      "---  ------                  --------------  -----  \n",
      " 0   title                   10399 non-null  int32  \n",
      " 1   authors                 10399 non-null  int32  \n",
      " 2   average_rating          10399 non-null  float64\n",
      " 3   num_pages               10399 non-null  int64  \n",
      " 4   ratings_count           10399 non-null  int64  \n",
      " 5   text_reviews_count      10399 non-null  int64  \n",
      " 6   publisher               10399 non-null  int32  \n",
      " 7   titles_grouped          10399 non-null  int32  \n",
      " 8   title_frequency         10399 non-null  int64  \n",
      " 9   main_author             10399 non-null  int32  \n",
      " 10  author_frequency        10399 non-null  int64  \n",
      " 11  main_author_frequency   10399 non-null  int64  \n",
      " 12  publisher_frequency     10399 non-null  int64  \n",
      " 13  publication_year        10399 non-null  int32  \n",
      " 14  text_review_conversion  10399 non-null  float64\n",
      "dtypes: float64(2), int32(6), int64(7)\n",
      "memory usage: 1.0 MB\n"
     ]
    }
   ],
   "source": [
    "df_numeric.info()"
   ]
  },
  {
   "cell_type": "code",
   "execution_count": 410,
   "metadata": {},
   "outputs": [
    {
     "name": "stdout",
     "output_type": "stream",
     "text": [
      "                           title   authors  average_rating  num_pages  \\\n",
      "title                   1.000000  0.022841        0.020969   0.021275   \n",
      "authors                 0.022841  1.000000        0.016668   0.002262   \n",
      "average_rating          0.020969  0.016668        1.000000   0.177027   \n",
      "num_pages               0.021275  0.002262        0.177027   1.000000   \n",
      "ratings_count           0.003435  0.000432        0.042768   0.035846   \n",
      "text_reviews_count      0.009942 -0.008410        0.035451   0.038683   \n",
      "publisher               0.034677  0.017987        0.038725   0.011233   \n",
      "titles_grouped          0.166826  0.031395       -0.108048  -0.040130   \n",
      "title_frequency         0.019398 -0.004992        0.108610   0.016731   \n",
      "main_author             0.019198  0.932736        0.018444   0.001581   \n",
      "author_frequency       -0.000837  0.103681        0.071615   0.075034   \n",
      "main_author_frequency  -0.006599  0.112593        0.061138   0.068482   \n",
      "publisher_frequency     0.016155  0.008312       -0.025433   0.062183   \n",
      "publication_year       -0.003869 -0.003407       -0.046042  -0.010431   \n",
      "text_review_conversion -0.004073 -0.012085       -0.161661  -0.088694   \n",
      "\n",
      "                        ratings_count  text_reviews_count  publisher  \\\n",
      "title                        0.003435            0.009942   0.034677   \n",
      "authors                      0.000432           -0.008410   0.017987   \n",
      "average_rating               0.042768            0.035451   0.038725   \n",
      "num_pages                    0.035846            0.038683   0.011233   \n",
      "ratings_count                1.000000            0.865868   0.001824   \n",
      "text_reviews_count           0.865868            1.000000  -0.001235   \n",
      "publisher                    0.001824           -0.001235   1.000000   \n",
      "titles_grouped              -0.036497           -0.010117  -0.001966   \n",
      "title_frequency              0.014172           -0.012157  -0.019583   \n",
      "main_author                 -0.001562           -0.010857   0.019066   \n",
      "author_frequency             0.073263            0.035803   0.026268   \n",
      "main_author_frequency        0.067729            0.029204   0.024260   \n",
      "publisher_frequency          0.048397            0.079296   0.149753   \n",
      "publication_year             0.045777            0.068747  -0.010814   \n",
      "text_review_conversion      -0.127112           -0.104511  -0.023354   \n",
      "\n",
      "                        titles_grouped  title_frequency  main_author  \\\n",
      "title                         0.166826         0.019398     0.019198   \n",
      "authors                       0.031395        -0.004992     0.932736   \n",
      "average_rating               -0.108048         0.108610     0.018444   \n",
      "num_pages                    -0.040130         0.016731     0.001581   \n",
      "ratings_count                -0.036497         0.014172    -0.001562   \n",
      "text_reviews_count           -0.010117        -0.012157    -0.010857   \n",
      "publisher                    -0.001966        -0.019583     0.019066   \n",
      "titles_grouped                1.000000        -0.300774     0.031434   \n",
      "title_frequency              -0.300774         1.000000    -0.008789   \n",
      "main_author                   0.031434        -0.008789     1.000000   \n",
      "author_frequency             -0.032016         0.043587     0.103720   \n",
      "main_author_frequency        -0.029619         0.044662     0.130073   \n",
      "publisher_frequency           0.040236        -0.043894     0.009312   \n",
      "publication_year              0.023065        -0.026027     0.004482   \n",
      "text_review_conversion       -0.027897         0.003947    -0.017168   \n",
      "\n",
      "                        author_frequency  main_author_frequency  \\\n",
      "title                          -0.000837              -0.006599   \n",
      "authors                         0.103681               0.112593   \n",
      "average_rating                  0.071615               0.061138   \n",
      "num_pages                       0.075034               0.068482   \n",
      "ratings_count                   0.073263               0.067729   \n",
      "text_reviews_count              0.035803               0.029204   \n",
      "publisher                       0.026268               0.024260   \n",
      "titles_grouped                 -0.032016              -0.029619   \n",
      "title_frequency                 0.043587               0.044662   \n",
      "main_author                     0.103720               0.130073   \n",
      "author_frequency                1.000000               0.928484   \n",
      "main_author_frequency           0.928484               1.000000   \n",
      "publisher_frequency             0.005432               0.007235   \n",
      "publication_year               -0.008882              -0.016745   \n",
      "text_review_conversion         -0.118967              -0.119756   \n",
      "\n",
      "                        publisher_frequency  publication_year  \\\n",
      "title                              0.016155         -0.003869   \n",
      "authors                            0.008312         -0.003407   \n",
      "average_rating                    -0.025433         -0.046042   \n",
      "num_pages                          0.062183         -0.010431   \n",
      "ratings_count                      0.048397          0.045777   \n",
      "text_reviews_count                 0.079296          0.068747   \n",
      "publisher                          0.149753         -0.010814   \n",
      "titles_grouped                     0.040236          0.023065   \n",
      "title_frequency                   -0.043894         -0.026027   \n",
      "main_author                        0.009312          0.004482   \n",
      "author_frequency                   0.005432         -0.008882   \n",
      "main_author_frequency              0.007235         -0.016745   \n",
      "publisher_frequency                1.000000          0.039541   \n",
      "publication_year                   0.039541          1.000000   \n",
      "text_review_conversion            -0.070256          0.002793   \n",
      "\n",
      "                        text_review_conversion  \n",
      "title                                -0.004073  \n",
      "authors                              -0.012085  \n",
      "average_rating                       -0.161661  \n",
      "num_pages                            -0.088694  \n",
      "ratings_count                        -0.127112  \n",
      "text_reviews_count                   -0.104511  \n",
      "publisher                            -0.023354  \n",
      "titles_grouped                       -0.027897  \n",
      "title_frequency                       0.003947  \n",
      "main_author                          -0.017168  \n",
      "author_frequency                     -0.118967  \n",
      "main_author_frequency                -0.119756  \n",
      "publisher_frequency                  -0.070256  \n",
      "publication_year                      0.002793  \n",
      "text_review_conversion                1.000000  \n"
     ]
    }
   ],
   "source": [
    "print(df_numeric.corr())"
   ]
  },
  {
   "cell_type": "code",
   "execution_count": 411,
   "metadata": {},
   "outputs": [],
   "source": [
    "# Dropping extra colums with repeat data\n",
    "df_numeric = df_numeric.drop('title', axis=1)\n",
    "df_numeric = df_numeric.drop('main_author', axis=1)\n",
    "df_numeric = df_numeric.drop('authors', axis=1)\n",
    "df_numeric = df_numeric.drop('main_author_frequency', axis=1)\n",
    "df_numeric = df_numeric.drop('text_reviews_count', axis=1)\n",
    "df_numeric = df_numeric.drop('publisher_frequency', axis=1)"
   ]
  },
  {
   "cell_type": "code",
   "execution_count": 412,
   "metadata": {},
   "outputs": [
    {
     "name": "stdout",
     "output_type": "stream",
     "text": [
      "                        average_rating  num_pages  ratings_count  publisher  \\\n",
      "average_rating                1.000000   0.177027       0.042768   0.038725   \n",
      "num_pages                     0.177027   1.000000       0.035846   0.011233   \n",
      "ratings_count                 0.042768   0.035846       1.000000   0.001824   \n",
      "publisher                     0.038725   0.011233       0.001824   1.000000   \n",
      "titles_grouped               -0.108048  -0.040130      -0.036497  -0.001966   \n",
      "title_frequency               0.108610   0.016731       0.014172  -0.019583   \n",
      "author_frequency              0.071615   0.075034       0.073263   0.026268   \n",
      "publication_year             -0.046042  -0.010431       0.045777  -0.010814   \n",
      "text_review_conversion       -0.161661  -0.088694      -0.127112  -0.023354   \n",
      "\n",
      "                        titles_grouped  title_frequency  author_frequency  \\\n",
      "average_rating               -0.108048         0.108610          0.071615   \n",
      "num_pages                    -0.040130         0.016731          0.075034   \n",
      "ratings_count                -0.036497         0.014172          0.073263   \n",
      "publisher                    -0.001966        -0.019583          0.026268   \n",
      "titles_grouped                1.000000        -0.300774         -0.032016   \n",
      "title_frequency              -0.300774         1.000000          0.043587   \n",
      "author_frequency             -0.032016         0.043587          1.000000   \n",
      "publication_year              0.023065        -0.026027         -0.008882   \n",
      "text_review_conversion       -0.027897         0.003947         -0.118967   \n",
      "\n",
      "                        publication_year  text_review_conversion  \n",
      "average_rating                 -0.046042               -0.161661  \n",
      "num_pages                      -0.010431               -0.088694  \n",
      "ratings_count                   0.045777               -0.127112  \n",
      "publisher                      -0.010814               -0.023354  \n",
      "titles_grouped                  0.023065               -0.027897  \n",
      "title_frequency                -0.026027                0.003947  \n",
      "author_frequency               -0.008882               -0.118967  \n",
      "publication_year                1.000000                0.002793  \n",
      "text_review_conversion          0.002793                1.000000  \n"
     ]
    }
   ],
   "source": [
    "print(df_numeric.corr())"
   ]
  },
  {
   "cell_type": "code",
   "execution_count": 413,
   "metadata": {},
   "outputs": [
    {
     "data": {
      "application/vnd.plotly.v1+json": {
       "config": {
        "plotlyServerURL": "https://plot.ly"
       },
       "data": [
        {
         "coloraxis": "coloraxis",
         "hovertemplate": "x: %{x}<br>y: %{y}<br>color: %{z}<extra></extra>",
         "name": "0",
         "type": "heatmap",
         "x": [
          "average_rating",
          "num_pages",
          "ratings_count",
          "publisher",
          "titles_grouped",
          "title_frequency",
          "author_frequency",
          "publication_year",
          "text_review_conversion"
         ],
         "xaxis": "x",
         "y": [
          "average_rating",
          "num_pages",
          "ratings_count",
          "publisher",
          "titles_grouped",
          "title_frequency",
          "author_frequency",
          "publication_year",
          "text_review_conversion"
         ],
         "yaxis": "y",
         "z": [
          [
           1,
           0.17702655552780153,
           0.04276829569419749,
           0.0387253953440049,
           -0.10804759890688746,
           0.10861013186916173,
           0.07161510085968506,
           -0.04604210519661653,
           -0.16166068777508585
          ],
          [
           0.17702655552780153,
           1,
           0.03584558943552519,
           0.011233343633328279,
           -0.0401302855770381,
           0.016731039060852628,
           0.07503432298707338,
           -0.010431027925186409,
           -0.08869422636782297
          ],
          [
           0.04276829569419749,
           0.03584558943552519,
           1,
           0.0018242403910901023,
           -0.03649660539911675,
           0.014171922282382735,
           0.07326270450467612,
           0.045776612716463536,
           -0.12711226797090708
          ],
          [
           0.0387253953440049,
           0.011233343633328279,
           0.0018242403910901023,
           1,
           -0.0019655168232708448,
           -0.019583378349889137,
           0.026268240952158826,
           -0.010813907504516872,
           -0.02335432619096461
          ],
          [
           -0.10804759890688746,
           -0.0401302855770381,
           -0.03649660539911675,
           -0.0019655168232708448,
           1,
           -0.30077363107511024,
           -0.03201568058493516,
           0.0230651851167574,
           -0.027896710308996972
          ],
          [
           0.10861013186916173,
           0.016731039060852628,
           0.014171922282382735,
           -0.019583378349889137,
           -0.30077363107511024,
           1,
           0.0435874867937343,
           -0.026026670700699854,
           0.003946834057427843
          ],
          [
           0.07161510085968506,
           0.07503432298707338,
           0.07326270450467612,
           0.026268240952158826,
           -0.03201568058493516,
           0.0435874867937343,
           1,
           -0.008882350292050586,
           -0.11896662624265361
          ],
          [
           -0.04604210519661653,
           -0.010431027925186409,
           0.045776612716463536,
           -0.010813907504516872,
           0.0230651851167574,
           -0.026026670700699854,
           -0.008882350292050586,
           1,
           0.0027933097928975743
          ],
          [
           -0.16166068777508585,
           -0.08869422636782297,
           -0.12711226797090708,
           -0.02335432619096461,
           -0.027896710308996972,
           0.003946834057427843,
           -0.11896662624265361,
           0.0027933097928975743,
           1
          ]
         ]
        }
       ],
       "layout": {
        "coloraxis": {
         "colorscale": [
          [
           0,
           "#0d0887"
          ],
          [
           0.1111111111111111,
           "#46039f"
          ],
          [
           0.2222222222222222,
           "#7201a8"
          ],
          [
           0.3333333333333333,
           "#9c179e"
          ],
          [
           0.4444444444444444,
           "#bd3786"
          ],
          [
           0.5555555555555556,
           "#d8576b"
          ],
          [
           0.6666666666666666,
           "#ed7953"
          ],
          [
           0.7777777777777778,
           "#fb9f3a"
          ],
          [
           0.8888888888888888,
           "#fdca26"
          ],
          [
           1,
           "#f0f921"
          ]
         ]
        },
        "margin": {
         "t": 60
        },
        "template": {
         "data": {
          "bar": [
           {
            "error_x": {
             "color": "#2a3f5f"
            },
            "error_y": {
             "color": "#2a3f5f"
            },
            "marker": {
             "line": {
              "color": "#E5ECF6",
              "width": 0.5
             },
             "pattern": {
              "fillmode": "overlay",
              "size": 10,
              "solidity": 0.2
             }
            },
            "type": "bar"
           }
          ],
          "barpolar": [
           {
            "marker": {
             "line": {
              "color": "#E5ECF6",
              "width": 0.5
             },
             "pattern": {
              "fillmode": "overlay",
              "size": 10,
              "solidity": 0.2
             }
            },
            "type": "barpolar"
           }
          ],
          "carpet": [
           {
            "aaxis": {
             "endlinecolor": "#2a3f5f",
             "gridcolor": "white",
             "linecolor": "white",
             "minorgridcolor": "white",
             "startlinecolor": "#2a3f5f"
            },
            "baxis": {
             "endlinecolor": "#2a3f5f",
             "gridcolor": "white",
             "linecolor": "white",
             "minorgridcolor": "white",
             "startlinecolor": "#2a3f5f"
            },
            "type": "carpet"
           }
          ],
          "choropleth": [
           {
            "colorbar": {
             "outlinewidth": 0,
             "ticks": ""
            },
            "type": "choropleth"
           }
          ],
          "contour": [
           {
            "colorbar": {
             "outlinewidth": 0,
             "ticks": ""
            },
            "colorscale": [
             [
              0,
              "#0d0887"
             ],
             [
              0.1111111111111111,
              "#46039f"
             ],
             [
              0.2222222222222222,
              "#7201a8"
             ],
             [
              0.3333333333333333,
              "#9c179e"
             ],
             [
              0.4444444444444444,
              "#bd3786"
             ],
             [
              0.5555555555555556,
              "#d8576b"
             ],
             [
              0.6666666666666666,
              "#ed7953"
             ],
             [
              0.7777777777777778,
              "#fb9f3a"
             ],
             [
              0.8888888888888888,
              "#fdca26"
             ],
             [
              1,
              "#f0f921"
             ]
            ],
            "type": "contour"
           }
          ],
          "contourcarpet": [
           {
            "colorbar": {
             "outlinewidth": 0,
             "ticks": ""
            },
            "type": "contourcarpet"
           }
          ],
          "heatmap": [
           {
            "colorbar": {
             "outlinewidth": 0,
             "ticks": ""
            },
            "colorscale": [
             [
              0,
              "#0d0887"
             ],
             [
              0.1111111111111111,
              "#46039f"
             ],
             [
              0.2222222222222222,
              "#7201a8"
             ],
             [
              0.3333333333333333,
              "#9c179e"
             ],
             [
              0.4444444444444444,
              "#bd3786"
             ],
             [
              0.5555555555555556,
              "#d8576b"
             ],
             [
              0.6666666666666666,
              "#ed7953"
             ],
             [
              0.7777777777777778,
              "#fb9f3a"
             ],
             [
              0.8888888888888888,
              "#fdca26"
             ],
             [
              1,
              "#f0f921"
             ]
            ],
            "type": "heatmap"
           }
          ],
          "heatmapgl": [
           {
            "colorbar": {
             "outlinewidth": 0,
             "ticks": ""
            },
            "colorscale": [
             [
              0,
              "#0d0887"
             ],
             [
              0.1111111111111111,
              "#46039f"
             ],
             [
              0.2222222222222222,
              "#7201a8"
             ],
             [
              0.3333333333333333,
              "#9c179e"
             ],
             [
              0.4444444444444444,
              "#bd3786"
             ],
             [
              0.5555555555555556,
              "#d8576b"
             ],
             [
              0.6666666666666666,
              "#ed7953"
             ],
             [
              0.7777777777777778,
              "#fb9f3a"
             ],
             [
              0.8888888888888888,
              "#fdca26"
             ],
             [
              1,
              "#f0f921"
             ]
            ],
            "type": "heatmapgl"
           }
          ],
          "histogram": [
           {
            "marker": {
             "pattern": {
              "fillmode": "overlay",
              "size": 10,
              "solidity": 0.2
             }
            },
            "type": "histogram"
           }
          ],
          "histogram2d": [
           {
            "colorbar": {
             "outlinewidth": 0,
             "ticks": ""
            },
            "colorscale": [
             [
              0,
              "#0d0887"
             ],
             [
              0.1111111111111111,
              "#46039f"
             ],
             [
              0.2222222222222222,
              "#7201a8"
             ],
             [
              0.3333333333333333,
              "#9c179e"
             ],
             [
              0.4444444444444444,
              "#bd3786"
             ],
             [
              0.5555555555555556,
              "#d8576b"
             ],
             [
              0.6666666666666666,
              "#ed7953"
             ],
             [
              0.7777777777777778,
              "#fb9f3a"
             ],
             [
              0.8888888888888888,
              "#fdca26"
             ],
             [
              1,
              "#f0f921"
             ]
            ],
            "type": "histogram2d"
           }
          ],
          "histogram2dcontour": [
           {
            "colorbar": {
             "outlinewidth": 0,
             "ticks": ""
            },
            "colorscale": [
             [
              0,
              "#0d0887"
             ],
             [
              0.1111111111111111,
              "#46039f"
             ],
             [
              0.2222222222222222,
              "#7201a8"
             ],
             [
              0.3333333333333333,
              "#9c179e"
             ],
             [
              0.4444444444444444,
              "#bd3786"
             ],
             [
              0.5555555555555556,
              "#d8576b"
             ],
             [
              0.6666666666666666,
              "#ed7953"
             ],
             [
              0.7777777777777778,
              "#fb9f3a"
             ],
             [
              0.8888888888888888,
              "#fdca26"
             ],
             [
              1,
              "#f0f921"
             ]
            ],
            "type": "histogram2dcontour"
           }
          ],
          "mesh3d": [
           {
            "colorbar": {
             "outlinewidth": 0,
             "ticks": ""
            },
            "type": "mesh3d"
           }
          ],
          "parcoords": [
           {
            "line": {
             "colorbar": {
              "outlinewidth": 0,
              "ticks": ""
             }
            },
            "type": "parcoords"
           }
          ],
          "pie": [
           {
            "automargin": true,
            "type": "pie"
           }
          ],
          "scatter": [
           {
            "fillpattern": {
             "fillmode": "overlay",
             "size": 10,
             "solidity": 0.2
            },
            "type": "scatter"
           }
          ],
          "scatter3d": [
           {
            "line": {
             "colorbar": {
              "outlinewidth": 0,
              "ticks": ""
             }
            },
            "marker": {
             "colorbar": {
              "outlinewidth": 0,
              "ticks": ""
             }
            },
            "type": "scatter3d"
           }
          ],
          "scattercarpet": [
           {
            "marker": {
             "colorbar": {
              "outlinewidth": 0,
              "ticks": ""
             }
            },
            "type": "scattercarpet"
           }
          ],
          "scattergeo": [
           {
            "marker": {
             "colorbar": {
              "outlinewidth": 0,
              "ticks": ""
             }
            },
            "type": "scattergeo"
           }
          ],
          "scattergl": [
           {
            "marker": {
             "colorbar": {
              "outlinewidth": 0,
              "ticks": ""
             }
            },
            "type": "scattergl"
           }
          ],
          "scattermapbox": [
           {
            "marker": {
             "colorbar": {
              "outlinewidth": 0,
              "ticks": ""
             }
            },
            "type": "scattermapbox"
           }
          ],
          "scatterpolar": [
           {
            "marker": {
             "colorbar": {
              "outlinewidth": 0,
              "ticks": ""
             }
            },
            "type": "scatterpolar"
           }
          ],
          "scatterpolargl": [
           {
            "marker": {
             "colorbar": {
              "outlinewidth": 0,
              "ticks": ""
             }
            },
            "type": "scatterpolargl"
           }
          ],
          "scatterternary": [
           {
            "marker": {
             "colorbar": {
              "outlinewidth": 0,
              "ticks": ""
             }
            },
            "type": "scatterternary"
           }
          ],
          "surface": [
           {
            "colorbar": {
             "outlinewidth": 0,
             "ticks": ""
            },
            "colorscale": [
             [
              0,
              "#0d0887"
             ],
             [
              0.1111111111111111,
              "#46039f"
             ],
             [
              0.2222222222222222,
              "#7201a8"
             ],
             [
              0.3333333333333333,
              "#9c179e"
             ],
             [
              0.4444444444444444,
              "#bd3786"
             ],
             [
              0.5555555555555556,
              "#d8576b"
             ],
             [
              0.6666666666666666,
              "#ed7953"
             ],
             [
              0.7777777777777778,
              "#fb9f3a"
             ],
             [
              0.8888888888888888,
              "#fdca26"
             ],
             [
              1,
              "#f0f921"
             ]
            ],
            "type": "surface"
           }
          ],
          "table": [
           {
            "cells": {
             "fill": {
              "color": "#EBF0F8"
             },
             "line": {
              "color": "white"
             }
            },
            "header": {
             "fill": {
              "color": "#C8D4E3"
             },
             "line": {
              "color": "white"
             }
            },
            "type": "table"
           }
          ]
         },
         "layout": {
          "annotationdefaults": {
           "arrowcolor": "#2a3f5f",
           "arrowhead": 0,
           "arrowwidth": 1
          },
          "autotypenumbers": "strict",
          "coloraxis": {
           "colorbar": {
            "outlinewidth": 0,
            "ticks": ""
           }
          },
          "colorscale": {
           "diverging": [
            [
             0,
             "#8e0152"
            ],
            [
             0.1,
             "#c51b7d"
            ],
            [
             0.2,
             "#de77ae"
            ],
            [
             0.3,
             "#f1b6da"
            ],
            [
             0.4,
             "#fde0ef"
            ],
            [
             0.5,
             "#f7f7f7"
            ],
            [
             0.6,
             "#e6f5d0"
            ],
            [
             0.7,
             "#b8e186"
            ],
            [
             0.8,
             "#7fbc41"
            ],
            [
             0.9,
             "#4d9221"
            ],
            [
             1,
             "#276419"
            ]
           ],
           "sequential": [
            [
             0,
             "#0d0887"
            ],
            [
             0.1111111111111111,
             "#46039f"
            ],
            [
             0.2222222222222222,
             "#7201a8"
            ],
            [
             0.3333333333333333,
             "#9c179e"
            ],
            [
             0.4444444444444444,
             "#bd3786"
            ],
            [
             0.5555555555555556,
             "#d8576b"
            ],
            [
             0.6666666666666666,
             "#ed7953"
            ],
            [
             0.7777777777777778,
             "#fb9f3a"
            ],
            [
             0.8888888888888888,
             "#fdca26"
            ],
            [
             1,
             "#f0f921"
            ]
           ],
           "sequentialminus": [
            [
             0,
             "#0d0887"
            ],
            [
             0.1111111111111111,
             "#46039f"
            ],
            [
             0.2222222222222222,
             "#7201a8"
            ],
            [
             0.3333333333333333,
             "#9c179e"
            ],
            [
             0.4444444444444444,
             "#bd3786"
            ],
            [
             0.5555555555555556,
             "#d8576b"
            ],
            [
             0.6666666666666666,
             "#ed7953"
            ],
            [
             0.7777777777777778,
             "#fb9f3a"
            ],
            [
             0.8888888888888888,
             "#fdca26"
            ],
            [
             1,
             "#f0f921"
            ]
           ]
          },
          "colorway": [
           "#636efa",
           "#EF553B",
           "#00cc96",
           "#ab63fa",
           "#FFA15A",
           "#19d3f3",
           "#FF6692",
           "#B6E880",
           "#FF97FF",
           "#FECB52"
          ],
          "font": {
           "color": "#2a3f5f"
          },
          "geo": {
           "bgcolor": "white",
           "lakecolor": "white",
           "landcolor": "#E5ECF6",
           "showlakes": true,
           "showland": true,
           "subunitcolor": "white"
          },
          "hoverlabel": {
           "align": "left"
          },
          "hovermode": "closest",
          "mapbox": {
           "style": "light"
          },
          "paper_bgcolor": "white",
          "plot_bgcolor": "#E5ECF6",
          "polar": {
           "angularaxis": {
            "gridcolor": "white",
            "linecolor": "white",
            "ticks": ""
           },
           "bgcolor": "#E5ECF6",
           "radialaxis": {
            "gridcolor": "white",
            "linecolor": "white",
            "ticks": ""
           }
          },
          "scene": {
           "xaxis": {
            "backgroundcolor": "#E5ECF6",
            "gridcolor": "white",
            "gridwidth": 2,
            "linecolor": "white",
            "showbackground": true,
            "ticks": "",
            "zerolinecolor": "white"
           },
           "yaxis": {
            "backgroundcolor": "#E5ECF6",
            "gridcolor": "white",
            "gridwidth": 2,
            "linecolor": "white",
            "showbackground": true,
            "ticks": "",
            "zerolinecolor": "white"
           },
           "zaxis": {
            "backgroundcolor": "#E5ECF6",
            "gridcolor": "white",
            "gridwidth": 2,
            "linecolor": "white",
            "showbackground": true,
            "ticks": "",
            "zerolinecolor": "white"
           }
          },
          "shapedefaults": {
           "line": {
            "color": "#2a3f5f"
           }
          },
          "ternary": {
           "aaxis": {
            "gridcolor": "white",
            "linecolor": "white",
            "ticks": ""
           },
           "baxis": {
            "gridcolor": "white",
            "linecolor": "white",
            "ticks": ""
           },
           "bgcolor": "#E5ECF6",
           "caxis": {
            "gridcolor": "white",
            "linecolor": "white",
            "ticks": ""
           }
          },
          "title": {
           "x": 0.05
          },
          "xaxis": {
           "automargin": true,
           "gridcolor": "white",
           "linecolor": "white",
           "ticks": "",
           "title": {
            "standoff": 15
           },
           "zerolinecolor": "white",
           "zerolinewidth": 2
          },
          "yaxis": {
           "automargin": true,
           "gridcolor": "white",
           "linecolor": "white",
           "ticks": "",
           "title": {
            "standoff": 15
           },
           "zerolinecolor": "white",
           "zerolinewidth": 2
          }
         }
        },
        "xaxis": {
         "anchor": "y",
         "constrain": "domain",
         "domain": [
          0,
          1
         ],
         "scaleanchor": "y"
        },
        "yaxis": {
         "anchor": "x",
         "autorange": "reversed",
         "constrain": "domain",
         "domain": [
          0,
          1
         ]
        }
       }
      }
     },
     "metadata": {},
     "output_type": "display_data"
    }
   ],
   "source": [
    "px.imshow(df_numeric.corr())"
   ]
  },
  {
   "cell_type": "code",
   "execution_count": 414,
   "metadata": {},
   "outputs": [],
   "source": [
    "# CLASSIFICATION MODEL using SMOTE\n",
    "from sklearn.model_selection import train_test_split\n",
    "from imblearn.over_sampling import SMOTE\n",
    "from imblearn.under_sampling import RandomUnderSampler\n",
    "from imblearn.combine import SMOTETomek"
   ]
  },
  {
   "cell_type": "code",
   "execution_count": 432,
   "metadata": {},
   "outputs": [
    {
     "data": {
      "text/html": [
       "<div>\n",
       "<style scoped>\n",
       "    .dataframe tbody tr th:only-of-type {\n",
       "        vertical-align: middle;\n",
       "    }\n",
       "\n",
       "    .dataframe tbody tr th {\n",
       "        vertical-align: top;\n",
       "    }\n",
       "\n",
       "    .dataframe thead th {\n",
       "        text-align: right;\n",
       "    }\n",
       "</style>\n",
       "<table border=\"1\" class=\"dataframe\">\n",
       "  <thead>\n",
       "    <tr style=\"text-align: right;\">\n",
       "      <th></th>\n",
       "      <th>average_rating</th>\n",
       "      <th>num_pages</th>\n",
       "      <th>ratings_count</th>\n",
       "      <th>publisher</th>\n",
       "      <th>titles_grouped</th>\n",
       "      <th>title_frequency</th>\n",
       "      <th>author_frequency</th>\n",
       "      <th>publication_year</th>\n",
       "      <th>text_review_conversion</th>\n",
       "      <th>rating_category</th>\n",
       "    </tr>\n",
       "    <tr>\n",
       "      <th>bookID</th>\n",
       "      <th></th>\n",
       "      <th></th>\n",
       "      <th></th>\n",
       "      <th></th>\n",
       "      <th></th>\n",
       "      <th></th>\n",
       "      <th></th>\n",
       "      <th></th>\n",
       "      <th></th>\n",
       "      <th></th>\n",
       "    </tr>\n",
       "  </thead>\n",
       "  <tbody>\n",
       "    <tr>\n",
       "      <th>6549</th>\n",
       "      <td>4.22</td>\n",
       "      <td>192</td>\n",
       "      <td>2762</td>\n",
       "      <td>1065</td>\n",
       "      <td>1159</td>\n",
       "      <td>1</td>\n",
       "      <td>1</td>\n",
       "      <td>2003</td>\n",
       "      <td>0.1</td>\n",
       "      <td>Good</td>\n",
       "    </tr>\n",
       "    <tr>\n",
       "      <th>14490</th>\n",
       "      <td>3.49</td>\n",
       "      <td>528</td>\n",
       "      <td>30</td>\n",
       "      <td>401</td>\n",
       "      <td>528</td>\n",
       "      <td>4</td>\n",
       "      <td>1</td>\n",
       "      <td>2003</td>\n",
       "      <td>0.1</td>\n",
       "      <td>Below Average</td>\n",
       "    </tr>\n",
       "    <tr>\n",
       "      <th>5415</th>\n",
       "      <td>4.02</td>\n",
       "      <td>405</td>\n",
       "      <td>1039</td>\n",
       "      <td>507</td>\n",
       "      <td>967</td>\n",
       "      <td>5</td>\n",
       "      <td>66</td>\n",
       "      <td>1975</td>\n",
       "      <td>0.1</td>\n",
       "      <td>Good</td>\n",
       "    </tr>\n",
       "    <tr>\n",
       "      <th>5413</th>\n",
       "      <td>4.25</td>\n",
       "      <td>594</td>\n",
       "      <td>84123</td>\n",
       "      <td>508</td>\n",
       "      <td>967</td>\n",
       "      <td>5</td>\n",
       "      <td>66</td>\n",
       "      <td>2005</td>\n",
       "      <td>0.0</td>\n",
       "      <td>Good</td>\n",
       "    </tr>\n",
       "    <tr>\n",
       "      <th>5414</th>\n",
       "      <td>4.02</td>\n",
       "      <td>17</td>\n",
       "      <td>227</td>\n",
       "      <td>1639</td>\n",
       "      <td>967</td>\n",
       "      <td>5</td>\n",
       "      <td>66</td>\n",
       "      <td>2004</td>\n",
       "      <td>0.2</td>\n",
       "      <td>Good</td>\n",
       "    </tr>\n",
       "  </tbody>\n",
       "</table>\n",
       "</div>"
      ],
      "text/plain": [
       "        average_rating  num_pages  ratings_count  publisher  titles_grouped  \\\n",
       "bookID                                                                        \n",
       "6549              4.22        192           2762       1065            1159   \n",
       "14490             3.49        528             30        401             528   \n",
       "5415              4.02        405           1039        507             967   \n",
       "5413              4.25        594          84123        508             967   \n",
       "5414              4.02         17            227       1639             967   \n",
       "\n",
       "        title_frequency  author_frequency  publication_year  \\\n",
       "bookID                                                        \n",
       "6549                  1                 1              2003   \n",
       "14490                 4                 1              2003   \n",
       "5415                  5                66              1975   \n",
       "5413                  5                66              2005   \n",
       "5414                  5                66              2004   \n",
       "\n",
       "        text_review_conversion rating_category  \n",
       "bookID                                          \n",
       "6549                       0.1            Good  \n",
       "14490                      0.1   Below Average  \n",
       "5415                       0.1            Good  \n",
       "5413                       0.0            Good  \n",
       "5414                       0.2            Good  "
      ]
     },
     "execution_count": 432,
     "metadata": {},
     "output_type": "execute_result"
    }
   ],
   "source": [
    "# Putting average rating into categories\n",
    "\n",
    "bins = [0, 3, 3.5, 4.5, 5]\n",
    "labels = ['Poor', 'Below Average', 'Good', 'Excellent']\n",
    "df_numeric['rating_category'] = pd.cut(df_numeric['average_rating'], bins=bins, labels=labels)\n",
    "df_numeric.head()"
   ]
  },
  {
   "cell_type": "code",
   "execution_count": 433,
   "metadata": {},
   "outputs": [],
   "source": [
    "# Defining data\n",
    "\n",
    "X = df_numeric[['num_pages', 'author_frequency', 'ratings_count', 'text_review_conversion', 'publication_year', 'titles_grouped']]\n",
    "y = df_numeric['rating_category']"
   ]
  },
  {
   "cell_type": "code",
   "execution_count": 438,
   "metadata": {},
   "outputs": [
    {
     "name": "stdout",
     "output_type": "stream",
     "text": [
      "Counter({'Good': 9557, 'Below Average': 636, 'Excellent': 154, 'Poor': 52})\n",
      "Counter({'Good': 9557, 'Below Average': 9557, 'Excellent': 9557, 'Poor': 9557})\n"
     ]
    }
   ],
   "source": [
    "# Applying SMOTE\n",
    "\n",
    "counter = Counter(y)\n",
    "print(counter)\n",
    "oversample = SMOTE()\n",
    "X, y = oversample.fit_resample(X, y)\n",
    "counter = Counter(y)\n",
    "print(counter)"
   ]
  },
  {
   "cell_type": "code",
   "execution_count": 439,
   "metadata": {},
   "outputs": [],
   "source": [
    "# Splitting data\n",
    "\n",
    "X_train, X_test, y_train, y_test = train_test_split(X, y, test_size=0.2)"
   ]
  },
  {
   "cell_type": "code",
   "execution_count": 440,
   "metadata": {},
   "outputs": [
    {
     "data": {
      "text/html": [
       "<style>#sk-container-id-22 {\n",
       "  /* Definition of color scheme common for light and dark mode */\n",
       "  --sklearn-color-text: black;\n",
       "  --sklearn-color-line: gray;\n",
       "  /* Definition of color scheme for unfitted estimators */\n",
       "  --sklearn-color-unfitted-level-0: #fff5e6;\n",
       "  --sklearn-color-unfitted-level-1: #f6e4d2;\n",
       "  --sklearn-color-unfitted-level-2: #ffe0b3;\n",
       "  --sklearn-color-unfitted-level-3: chocolate;\n",
       "  /* Definition of color scheme for fitted estimators */\n",
       "  --sklearn-color-fitted-level-0: #f0f8ff;\n",
       "  --sklearn-color-fitted-level-1: #d4ebff;\n",
       "  --sklearn-color-fitted-level-2: #b3dbfd;\n",
       "  --sklearn-color-fitted-level-3: cornflowerblue;\n",
       "\n",
       "  /* Specific color for light theme */\n",
       "  --sklearn-color-text-on-default-background: var(--sg-text-color, var(--theme-code-foreground, var(--jp-content-font-color1, black)));\n",
       "  --sklearn-color-background: var(--sg-background-color, var(--theme-background, var(--jp-layout-color0, white)));\n",
       "  --sklearn-color-border-box: var(--sg-text-color, var(--theme-code-foreground, var(--jp-content-font-color1, black)));\n",
       "  --sklearn-color-icon: #696969;\n",
       "\n",
       "  @media (prefers-color-scheme: dark) {\n",
       "    /* Redefinition of color scheme for dark theme */\n",
       "    --sklearn-color-text-on-default-background: var(--sg-text-color, var(--theme-code-foreground, var(--jp-content-font-color1, white)));\n",
       "    --sklearn-color-background: var(--sg-background-color, var(--theme-background, var(--jp-layout-color0, #111)));\n",
       "    --sklearn-color-border-box: var(--sg-text-color, var(--theme-code-foreground, var(--jp-content-font-color1, white)));\n",
       "    --sklearn-color-icon: #878787;\n",
       "  }\n",
       "}\n",
       "\n",
       "#sk-container-id-22 {\n",
       "  color: var(--sklearn-color-text);\n",
       "}\n",
       "\n",
       "#sk-container-id-22 pre {\n",
       "  padding: 0;\n",
       "}\n",
       "\n",
       "#sk-container-id-22 input.sk-hidden--visually {\n",
       "  border: 0;\n",
       "  clip: rect(1px 1px 1px 1px);\n",
       "  clip: rect(1px, 1px, 1px, 1px);\n",
       "  height: 1px;\n",
       "  margin: -1px;\n",
       "  overflow: hidden;\n",
       "  padding: 0;\n",
       "  position: absolute;\n",
       "  width: 1px;\n",
       "}\n",
       "\n",
       "#sk-container-id-22 div.sk-dashed-wrapped {\n",
       "  border: 1px dashed var(--sklearn-color-line);\n",
       "  margin: 0 0.4em 0.5em 0.4em;\n",
       "  box-sizing: border-box;\n",
       "  padding-bottom: 0.4em;\n",
       "  background-color: var(--sklearn-color-background);\n",
       "}\n",
       "\n",
       "#sk-container-id-22 div.sk-container {\n",
       "  /* jupyter's `normalize.less` sets `[hidden] { display: none; }`\n",
       "     but bootstrap.min.css set `[hidden] { display: none !important; }`\n",
       "     so we also need the `!important` here to be able to override the\n",
       "     default hidden behavior on the sphinx rendered scikit-learn.org.\n",
       "     See: https://github.com/scikit-learn/scikit-learn/issues/21755 */\n",
       "  display: inline-block !important;\n",
       "  position: relative;\n",
       "}\n",
       "\n",
       "#sk-container-id-22 div.sk-text-repr-fallback {\n",
       "  display: none;\n",
       "}\n",
       "\n",
       "div.sk-parallel-item,\n",
       "div.sk-serial,\n",
       "div.sk-item {\n",
       "  /* draw centered vertical line to link estimators */\n",
       "  background-image: linear-gradient(var(--sklearn-color-text-on-default-background), var(--sklearn-color-text-on-default-background));\n",
       "  background-size: 2px 100%;\n",
       "  background-repeat: no-repeat;\n",
       "  background-position: center center;\n",
       "}\n",
       "\n",
       "/* Parallel-specific style estimator block */\n",
       "\n",
       "#sk-container-id-22 div.sk-parallel-item::after {\n",
       "  content: \"\";\n",
       "  width: 100%;\n",
       "  border-bottom: 2px solid var(--sklearn-color-text-on-default-background);\n",
       "  flex-grow: 1;\n",
       "}\n",
       "\n",
       "#sk-container-id-22 div.sk-parallel {\n",
       "  display: flex;\n",
       "  align-items: stretch;\n",
       "  justify-content: center;\n",
       "  background-color: var(--sklearn-color-background);\n",
       "  position: relative;\n",
       "}\n",
       "\n",
       "#sk-container-id-22 div.sk-parallel-item {\n",
       "  display: flex;\n",
       "  flex-direction: column;\n",
       "}\n",
       "\n",
       "#sk-container-id-22 div.sk-parallel-item:first-child::after {\n",
       "  align-self: flex-end;\n",
       "  width: 50%;\n",
       "}\n",
       "\n",
       "#sk-container-id-22 div.sk-parallel-item:last-child::after {\n",
       "  align-self: flex-start;\n",
       "  width: 50%;\n",
       "}\n",
       "\n",
       "#sk-container-id-22 div.sk-parallel-item:only-child::after {\n",
       "  width: 0;\n",
       "}\n",
       "\n",
       "/* Serial-specific style estimator block */\n",
       "\n",
       "#sk-container-id-22 div.sk-serial {\n",
       "  display: flex;\n",
       "  flex-direction: column;\n",
       "  align-items: center;\n",
       "  background-color: var(--sklearn-color-background);\n",
       "  padding-right: 1em;\n",
       "  padding-left: 1em;\n",
       "}\n",
       "\n",
       "\n",
       "/* Toggleable style: style used for estimator/Pipeline/ColumnTransformer box that is\n",
       "clickable and can be expanded/collapsed.\n",
       "- Pipeline and ColumnTransformer use this feature and define the default style\n",
       "- Estimators will overwrite some part of the style using the `sk-estimator` class\n",
       "*/\n",
       "\n",
       "/* Pipeline and ColumnTransformer style (default) */\n",
       "\n",
       "#sk-container-id-22 div.sk-toggleable {\n",
       "  /* Default theme specific background. It is overwritten whether we have a\n",
       "  specific estimator or a Pipeline/ColumnTransformer */\n",
       "  background-color: var(--sklearn-color-background);\n",
       "}\n",
       "\n",
       "/* Toggleable label */\n",
       "#sk-container-id-22 label.sk-toggleable__label {\n",
       "  cursor: pointer;\n",
       "  display: block;\n",
       "  width: 100%;\n",
       "  margin-bottom: 0;\n",
       "  padding: 0.5em;\n",
       "  box-sizing: border-box;\n",
       "  text-align: center;\n",
       "}\n",
       "\n",
       "#sk-container-id-22 label.sk-toggleable__label-arrow:before {\n",
       "  /* Arrow on the left of the label */\n",
       "  content: \"▸\";\n",
       "  float: left;\n",
       "  margin-right: 0.25em;\n",
       "  color: var(--sklearn-color-icon);\n",
       "}\n",
       "\n",
       "#sk-container-id-22 label.sk-toggleable__label-arrow:hover:before {\n",
       "  color: var(--sklearn-color-text);\n",
       "}\n",
       "\n",
       "/* Toggleable content - dropdown */\n",
       "\n",
       "#sk-container-id-22 div.sk-toggleable__content {\n",
       "  max-height: 0;\n",
       "  max-width: 0;\n",
       "  overflow: hidden;\n",
       "  text-align: left;\n",
       "  /* unfitted */\n",
       "  background-color: var(--sklearn-color-unfitted-level-0);\n",
       "}\n",
       "\n",
       "#sk-container-id-22 div.sk-toggleable__content.fitted {\n",
       "  /* fitted */\n",
       "  background-color: var(--sklearn-color-fitted-level-0);\n",
       "}\n",
       "\n",
       "#sk-container-id-22 div.sk-toggleable__content pre {\n",
       "  margin: 0.2em;\n",
       "  border-radius: 0.25em;\n",
       "  color: var(--sklearn-color-text);\n",
       "  /* unfitted */\n",
       "  background-color: var(--sklearn-color-unfitted-level-0);\n",
       "}\n",
       "\n",
       "#sk-container-id-22 div.sk-toggleable__content.fitted pre {\n",
       "  /* unfitted */\n",
       "  background-color: var(--sklearn-color-fitted-level-0);\n",
       "}\n",
       "\n",
       "#sk-container-id-22 input.sk-toggleable__control:checked~div.sk-toggleable__content {\n",
       "  /* Expand drop-down */\n",
       "  max-height: 200px;\n",
       "  max-width: 100%;\n",
       "  overflow: auto;\n",
       "}\n",
       "\n",
       "#sk-container-id-22 input.sk-toggleable__control:checked~label.sk-toggleable__label-arrow:before {\n",
       "  content: \"▾\";\n",
       "}\n",
       "\n",
       "/* Pipeline/ColumnTransformer-specific style */\n",
       "\n",
       "#sk-container-id-22 div.sk-label input.sk-toggleable__control:checked~label.sk-toggleable__label {\n",
       "  color: var(--sklearn-color-text);\n",
       "  background-color: var(--sklearn-color-unfitted-level-2);\n",
       "}\n",
       "\n",
       "#sk-container-id-22 div.sk-label.fitted input.sk-toggleable__control:checked~label.sk-toggleable__label {\n",
       "  background-color: var(--sklearn-color-fitted-level-2);\n",
       "}\n",
       "\n",
       "/* Estimator-specific style */\n",
       "\n",
       "/* Colorize estimator box */\n",
       "#sk-container-id-22 div.sk-estimator input.sk-toggleable__control:checked~label.sk-toggleable__label {\n",
       "  /* unfitted */\n",
       "  background-color: var(--sklearn-color-unfitted-level-2);\n",
       "}\n",
       "\n",
       "#sk-container-id-22 div.sk-estimator.fitted input.sk-toggleable__control:checked~label.sk-toggleable__label {\n",
       "  /* fitted */\n",
       "  background-color: var(--sklearn-color-fitted-level-2);\n",
       "}\n",
       "\n",
       "#sk-container-id-22 div.sk-label label.sk-toggleable__label,\n",
       "#sk-container-id-22 div.sk-label label {\n",
       "  /* The background is the default theme color */\n",
       "  color: var(--sklearn-color-text-on-default-background);\n",
       "}\n",
       "\n",
       "/* On hover, darken the color of the background */\n",
       "#sk-container-id-22 div.sk-label:hover label.sk-toggleable__label {\n",
       "  color: var(--sklearn-color-text);\n",
       "  background-color: var(--sklearn-color-unfitted-level-2);\n",
       "}\n",
       "\n",
       "/* Label box, darken color on hover, fitted */\n",
       "#sk-container-id-22 div.sk-label.fitted:hover label.sk-toggleable__label.fitted {\n",
       "  color: var(--sklearn-color-text);\n",
       "  background-color: var(--sklearn-color-fitted-level-2);\n",
       "}\n",
       "\n",
       "/* Estimator label */\n",
       "\n",
       "#sk-container-id-22 div.sk-label label {\n",
       "  font-family: monospace;\n",
       "  font-weight: bold;\n",
       "  display: inline-block;\n",
       "  line-height: 1.2em;\n",
       "}\n",
       "\n",
       "#sk-container-id-22 div.sk-label-container {\n",
       "  text-align: center;\n",
       "}\n",
       "\n",
       "/* Estimator-specific */\n",
       "#sk-container-id-22 div.sk-estimator {\n",
       "  font-family: monospace;\n",
       "  border: 1px dotted var(--sklearn-color-border-box);\n",
       "  border-radius: 0.25em;\n",
       "  box-sizing: border-box;\n",
       "  margin-bottom: 0.5em;\n",
       "  /* unfitted */\n",
       "  background-color: var(--sklearn-color-unfitted-level-0);\n",
       "}\n",
       "\n",
       "#sk-container-id-22 div.sk-estimator.fitted {\n",
       "  /* fitted */\n",
       "  background-color: var(--sklearn-color-fitted-level-0);\n",
       "}\n",
       "\n",
       "/* on hover */\n",
       "#sk-container-id-22 div.sk-estimator:hover {\n",
       "  /* unfitted */\n",
       "  background-color: var(--sklearn-color-unfitted-level-2);\n",
       "}\n",
       "\n",
       "#sk-container-id-22 div.sk-estimator.fitted:hover {\n",
       "  /* fitted */\n",
       "  background-color: var(--sklearn-color-fitted-level-2);\n",
       "}\n",
       "\n",
       "/* Specification for estimator info (e.g. \"i\" and \"?\") */\n",
       "\n",
       "/* Common style for \"i\" and \"?\" */\n",
       "\n",
       ".sk-estimator-doc-link,\n",
       "a:link.sk-estimator-doc-link,\n",
       "a:visited.sk-estimator-doc-link {\n",
       "  float: right;\n",
       "  font-size: smaller;\n",
       "  line-height: 1em;\n",
       "  font-family: monospace;\n",
       "  background-color: var(--sklearn-color-background);\n",
       "  border-radius: 1em;\n",
       "  height: 1em;\n",
       "  width: 1em;\n",
       "  text-decoration: none !important;\n",
       "  margin-left: 1ex;\n",
       "  /* unfitted */\n",
       "  border: var(--sklearn-color-unfitted-level-1) 1pt solid;\n",
       "  color: var(--sklearn-color-unfitted-level-1);\n",
       "}\n",
       "\n",
       ".sk-estimator-doc-link.fitted,\n",
       "a:link.sk-estimator-doc-link.fitted,\n",
       "a:visited.sk-estimator-doc-link.fitted {\n",
       "  /* fitted */\n",
       "  border: var(--sklearn-color-fitted-level-1) 1pt solid;\n",
       "  color: var(--sklearn-color-fitted-level-1);\n",
       "}\n",
       "\n",
       "/* On hover */\n",
       "div.sk-estimator:hover .sk-estimator-doc-link:hover,\n",
       ".sk-estimator-doc-link:hover,\n",
       "div.sk-label-container:hover .sk-estimator-doc-link:hover,\n",
       ".sk-estimator-doc-link:hover {\n",
       "  /* unfitted */\n",
       "  background-color: var(--sklearn-color-unfitted-level-3);\n",
       "  color: var(--sklearn-color-background);\n",
       "  text-decoration: none;\n",
       "}\n",
       "\n",
       "div.sk-estimator.fitted:hover .sk-estimator-doc-link.fitted:hover,\n",
       ".sk-estimator-doc-link.fitted:hover,\n",
       "div.sk-label-container:hover .sk-estimator-doc-link.fitted:hover,\n",
       ".sk-estimator-doc-link.fitted:hover {\n",
       "  /* fitted */\n",
       "  background-color: var(--sklearn-color-fitted-level-3);\n",
       "  color: var(--sklearn-color-background);\n",
       "  text-decoration: none;\n",
       "}\n",
       "\n",
       "/* Span, style for the box shown on hovering the info icon */\n",
       ".sk-estimator-doc-link span {\n",
       "  display: none;\n",
       "  z-index: 9999;\n",
       "  position: relative;\n",
       "  font-weight: normal;\n",
       "  right: .2ex;\n",
       "  padding: .5ex;\n",
       "  margin: .5ex;\n",
       "  width: min-content;\n",
       "  min-width: 20ex;\n",
       "  max-width: 50ex;\n",
       "  color: var(--sklearn-color-text);\n",
       "  box-shadow: 2pt 2pt 4pt #999;\n",
       "  /* unfitted */\n",
       "  background: var(--sklearn-color-unfitted-level-0);\n",
       "  border: .5pt solid var(--sklearn-color-unfitted-level-3);\n",
       "}\n",
       "\n",
       ".sk-estimator-doc-link.fitted span {\n",
       "  /* fitted */\n",
       "  background: var(--sklearn-color-fitted-level-0);\n",
       "  border: var(--sklearn-color-fitted-level-3);\n",
       "}\n",
       "\n",
       ".sk-estimator-doc-link:hover span {\n",
       "  display: block;\n",
       "}\n",
       "\n",
       "/* \"?\"-specific style due to the `<a>` HTML tag */\n",
       "\n",
       "#sk-container-id-22 a.estimator_doc_link {\n",
       "  float: right;\n",
       "  font-size: 1rem;\n",
       "  line-height: 1em;\n",
       "  font-family: monospace;\n",
       "  background-color: var(--sklearn-color-background);\n",
       "  border-radius: 1rem;\n",
       "  height: 1rem;\n",
       "  width: 1rem;\n",
       "  text-decoration: none;\n",
       "  /* unfitted */\n",
       "  color: var(--sklearn-color-unfitted-level-1);\n",
       "  border: var(--sklearn-color-unfitted-level-1) 1pt solid;\n",
       "}\n",
       "\n",
       "#sk-container-id-22 a.estimator_doc_link.fitted {\n",
       "  /* fitted */\n",
       "  border: var(--sklearn-color-fitted-level-1) 1pt solid;\n",
       "  color: var(--sklearn-color-fitted-level-1);\n",
       "}\n",
       "\n",
       "/* On hover */\n",
       "#sk-container-id-22 a.estimator_doc_link:hover {\n",
       "  /* unfitted */\n",
       "  background-color: var(--sklearn-color-unfitted-level-3);\n",
       "  color: var(--sklearn-color-background);\n",
       "  text-decoration: none;\n",
       "}\n",
       "\n",
       "#sk-container-id-22 a.estimator_doc_link.fitted:hover {\n",
       "  /* fitted */\n",
       "  background-color: var(--sklearn-color-fitted-level-3);\n",
       "}\n",
       "</style><div id=\"sk-container-id-22\" class=\"sk-top-container\"><div class=\"sk-text-repr-fallback\"><pre>RandomForestClassifier(class_weight=&#x27;balanced_subsample&#x27;, n_estimators=200)</pre><b>In a Jupyter environment, please rerun this cell to show the HTML representation or trust the notebook. <br />On GitHub, the HTML representation is unable to render, please try loading this page with nbviewer.org.</b></div><div class=\"sk-container\" hidden><div class=\"sk-item\"><div class=\"sk-estimator fitted sk-toggleable\"><input class=\"sk-toggleable__control sk-hidden--visually\" id=\"sk-estimator-id-22\" type=\"checkbox\" checked><label for=\"sk-estimator-id-22\" class=\"sk-toggleable__label fitted sk-toggleable__label-arrow fitted\">&nbsp;&nbsp;RandomForestClassifier<a class=\"sk-estimator-doc-link fitted\" rel=\"noreferrer\" target=\"_blank\" href=\"https://scikit-learn.org/1.4/modules/generated/sklearn.ensemble.RandomForestClassifier.html\">?<span>Documentation for RandomForestClassifier</span></a><span class=\"sk-estimator-doc-link fitted\">i<span>Fitted</span></span></label><div class=\"sk-toggleable__content fitted\"><pre>RandomForestClassifier(class_weight=&#x27;balanced_subsample&#x27;, n_estimators=200)</pre></div> </div></div></div></div>"
      ],
      "text/plain": [
       "RandomForestClassifier(class_weight='balanced_subsample', n_estimators=200)"
      ]
     },
     "execution_count": 440,
     "metadata": {},
     "output_type": "execute_result"
    }
   ],
   "source": [
    "# Random Forest Classification\n",
    "\n",
    "from sklearn.ensemble import RandomForestClassifier\n",
    "from sklearn.metrics import accuracy_score, confusion_matrix, classification_report\n",
    "\n",
    "rf = RandomForestClassifier(n_estimators=200, class_weight='balanced_subsample')\n",
    "rf.fit(X_train, y_train)"
   ]
  },
  {
   "cell_type": "code",
   "execution_count": 441,
   "metadata": {},
   "outputs": [],
   "source": [
    "y_pred_rf = rf.predict(X_test)"
   ]
  },
  {
   "cell_type": "code",
   "execution_count": 442,
   "metadata": {},
   "outputs": [
    {
     "name": "stdout",
     "output_type": "stream",
     "text": [
      "Accuracy: 0.9503008108815066\n",
      "Confusion Matrix: \n",
      "[[1804    7  120   16]\n",
      " [   8 1888   12    9]\n",
      " [ 132   47 1680   26]\n",
      " [   3    0    0 1894]]\n",
      "Classification Report: \n",
      "               precision    recall  f1-score   support\n",
      "\n",
      "Below Average       0.93      0.93      0.93      1947\n",
      "    Excellent       0.97      0.98      0.98      1917\n",
      "         Good       0.93      0.89      0.91      1885\n",
      "         Poor       0.97      1.00      0.99      1897\n",
      "\n",
      "     accuracy                           0.95      7646\n",
      "    macro avg       0.95      0.95      0.95      7646\n",
      " weighted avg       0.95      0.95      0.95      7646\n",
      "\n"
     ]
    }
   ],
   "source": [
    "accuracy_rf = accuracy_score(y_test, y_pred_rf)\n",
    "print(f'Accuracy: {accuracy_rf}')\n",
    "\n",
    "conf_matrix = confusion_matrix(y_test, y_pred_rf)\n",
    "print(f'Confusion Matrix: \\n{conf_matrix}')\n",
    "\n",
    "class_report = classification_report(y_test, y_pred_rf)\n",
    "print(f'Classification Report: \\n{class_report}')"
   ]
  },
  {
   "cell_type": "code",
   "execution_count": 422,
   "metadata": {},
   "outputs": [
    {
     "name": "stdout",
     "output_type": "stream",
     "text": [
      "Cross validation scores: [0.9525242  0.95383207 0.95069317 0.9440157  0.94780903]\n",
      "Cross validation average score: 0.9497748319309978\n"
     ]
    }
   ],
   "source": [
    "# Cross validation for Random Forest Model\n",
    "from sklearn.model_selection import StratifiedKFold, cross_val_score\n",
    "\n",
    "cv = StratifiedKFold(n_splits=5, shuffle=True, random_state=42)\n",
    "cv_score = cross_val_score(rf, X, y, cv=cv, scoring='accuracy')\n",
    "print(\"Cross validation scores:\", cv_score)\n",
    "print(\"Cross validation average score:\", cv_score.mean())"
   ]
  },
  {
   "cell_type": "code",
   "execution_count": 423,
   "metadata": {},
   "outputs": [],
   "source": [
    "# KNN Classification\n",
    "from sklearn.neighbors import KNeighborsClassifier"
   ]
  },
  {
   "cell_type": "code",
   "execution_count": 424,
   "metadata": {},
   "outputs": [],
   "source": [
    "k = 3\n",
    "knn = KNeighborsClassifier(n_neighbors=k, weights='distance')\n",
    "knn.fit(X_train, y_train)\n",
    "y_pred_knn = knn.predict(X_test)"
   ]
  },
  {
   "cell_type": "code",
   "execution_count": 425,
   "metadata": {},
   "outputs": [
    {
     "name": "stdout",
     "output_type": "stream",
     "text": [
      "Accuracy: 0.8312843316766937\n",
      "Confusion Matrix: \n",
      "[[1672   29  141   53]\n",
      " [  36 1766   66   21]\n",
      " [ 431  207 1108  190]\n",
      " [  54   13   49 1810]]\n",
      "Classification Report: \n",
      "               precision    recall  f1-score   support\n",
      "\n",
      "Below Average       0.76      0.88      0.82      1895\n",
      "    Excellent       0.88      0.93      0.90      1889\n",
      "         Good       0.81      0.57      0.67      1936\n",
      "         Poor       0.87      0.94      0.91      1926\n",
      "\n",
      "     accuracy                           0.83      7646\n",
      "    macro avg       0.83      0.83      0.82      7646\n",
      " weighted avg       0.83      0.83      0.82      7646\n",
      "\n"
     ]
    }
   ],
   "source": [
    "accuracy_knn = accuracy_score(y_test, y_pred_knn)\n",
    "print(f'Accuracy: {accuracy_knn}')\n",
    "\n",
    "conf_matrix = confusion_matrix(y_test, y_pred_knn)\n",
    "print(f'Confusion Matrix: \\n{conf_matrix}')\n",
    "\n",
    "class_report = classification_report(y_test, y_pred_knn)\n",
    "print(f'Classification Report: \\n{class_report}')"
   ]
  },
  {
   "cell_type": "code",
   "execution_count": 426,
   "metadata": {},
   "outputs": [
    {
     "name": "stdout",
     "output_type": "stream",
     "text": [
      "Cross validation scores: [0.83337693 0.83429244 0.83769291 0.8351864  0.82746893]\n",
      "Cross validation average score: 0.833603522242487\n"
     ]
    }
   ],
   "source": [
    "# Cross validation for KNN\n",
    "cv = StratifiedKFold(n_splits=5, shuffle=True, random_state=42)\n",
    "cv_score = cross_val_score(knn, X, y, cv=cv, scoring='accuracy')\n",
    "print(\"Cross validation scores:\", cv_score)\n",
    "print(\"Cross validation average score:\", cv_score.mean())"
   ]
  },
  {
   "cell_type": "code",
   "execution_count": 427,
   "metadata": {},
   "outputs": [],
   "source": [
    "# Gradient Boosting Classification\n",
    "\n",
    "from sklearn.ensemble import GradientBoostingClassifier\n",
    "\n",
    "X_train, X_test, y_train, y_test = train_test_split(X, y, test_size=0.2)"
   ]
  },
  {
   "cell_type": "code",
   "execution_count": 428,
   "metadata": {},
   "outputs": [],
   "source": [
    "gbc = GradientBoostingClassifier(n_estimators=300, learning_rate=0.2, max_depth=8)\n",
    "gbc.fit(X_train, y_train)\n",
    "y_pred_gbc = gbc.predict(X_test)"
   ]
  },
  {
   "cell_type": "code",
   "execution_count": 429,
   "metadata": {},
   "outputs": [
    {
     "name": "stdout",
     "output_type": "stream",
     "text": [
      "Accuracy: 0.9503008108815066\n",
      "Confusion Matrix: \n",
      "[[1785   10  131    9]\n",
      " [  11 1840   20    4]\n",
      " [ 122   48 1687   15]\n",
      " [   7    0    3 1954]]\n",
      "Classification Report: \n",
      "               precision    recall  f1-score   support\n",
      "\n",
      "Below Average       0.93      0.92      0.92      1935\n",
      "    Excellent       0.97      0.98      0.98      1875\n",
      "         Good       0.92      0.90      0.91      1872\n",
      "         Poor       0.99      0.99      0.99      1964\n",
      "\n",
      "     accuracy                           0.95      7646\n",
      "    macro avg       0.95      0.95      0.95      7646\n",
      " weighted avg       0.95      0.95      0.95      7646\n",
      "\n"
     ]
    }
   ],
   "source": [
    "accuracy_gbc = accuracy_score(y_test, y_pred_gbc)\n",
    "print(f'Accuracy: {accuracy_gbc}')\n",
    "\n",
    "conf_matrix = confusion_matrix(y_test, y_pred_gbc)\n",
    "print(f'Confusion Matrix: \\n{conf_matrix}')\n",
    "\n",
    "class_report = classification_report(y_test, y_pred_gbc)\n",
    "print(f'Classification Report: \\n{class_report}')"
   ]
  },
  {
   "cell_type": "code",
   "execution_count": 430,
   "metadata": {},
   "outputs": [
    {
     "name": "stdout",
     "output_type": "stream",
     "text": [
      "Best Hyperparameters: {'learning_rate': 0.2, 'max_depth': 8, 'n_estimators': 300}\n",
      "Best Cross Validation Accuracy: 0.9401281799751487\n"
     ]
    }
   ],
   "source": [
    "# Grid Search cross validation for Gradient Boosting\n",
    "from sklearn.model_selection import GridSearchCV\n",
    "\n",
    "gbcv = GradientBoostingClassifier()\n",
    "parameters = {\n",
    "    'n_estimators': [200, 300],\n",
    "    'learning_rate': [0.1, 0.2],\n",
    "    'max_depth': [8, 6]\n",
    "}\n",
    "grid = GridSearchCV(estimator=gbcv, param_grid=parameters, cv=3, scoring='accuracy')\n",
    "grid.fit(X_train, y_train)\n",
    "print(\"Best Hyperparameters:\", grid.best_params_)\n",
    "print(\"Best Cross Validation Accuracy:\", grid.best_score_)"
   ]
  },
  {
   "cell_type": "code",
   "execution_count": 431,
   "metadata": {},
   "outputs": [
    {
     "name": "stdout",
     "output_type": "stream",
     "text": [
      "Test Accuracy: 0.9510855349202197\n"
     ]
    }
   ],
   "source": [
    "best_model = grid.best_estimator_\n",
    "y_pred = best_model.predict(X_test)\n",
    "test_accuracy = accuracy_score(y_test, y_pred)\n",
    "print(\"Test Accuracy:\", test_accuracy)"
   ]
  }
 ],
 "metadata": {
  "kernelspec": {
   "display_name": "boot-3.9",
   "language": "python",
   "name": "python3"
  },
  "language_info": {
   "codemirror_mode": {
    "name": "ipython",
    "version": 3
   },
   "file_extension": ".py",
   "mimetype": "text/x-python",
   "name": "python",
   "nbconvert_exporter": "python",
   "pygments_lexer": "ipython3",
   "version": "3.12.0"
  }
 },
 "nbformat": 4,
 "nbformat_minor": 2
}
